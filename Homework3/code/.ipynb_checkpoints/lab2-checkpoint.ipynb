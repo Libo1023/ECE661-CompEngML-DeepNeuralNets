{
 "cells": [
  {
   "cell_type": "markdown",
   "metadata": {
    "id": "_XDaJ4TF9WCv"
   },
   "source": [
    "# Lab2 Implement and train a Transformer for sentiment analysis\n",
    "In this lab, we focus on Transformer models. You goal is to reach at least 80% validation and testing\n",
    "accuracy on the IMDB dataset within at most 10 epochs."
   ]
  },
  {
   "cell_type": "markdown",
   "metadata": {
    "id": "DRzAxetq9WCy"
   },
   "source": [
    "## Set up the environment"
   ]
  },
  {
   "cell_type": "code",
   "execution_count": 1,
   "metadata": {
    "colab": {
     "base_uri": "https://localhost:8080/"
    },
    "id": "z6N8q_m49WCz",
    "outputId": "fd0df88d-f2f1-4cf8-dc9d-657c4269c5c7"
   },
   "outputs": [
    {
     "name": "stderr",
     "output_type": "stream",
     "text": [
      "[nltk_data] Downloading package stopwords to\n",
      "[nltk_data]     C:\\Users\\Administrator\\AppData\\Roaming\\nltk_data...\n",
      "[nltk_data]   Package stopwords is already up-to-date!\n"
     ]
    },
    {
     "data": {
      "text/plain": [
       "True"
      ]
     },
     "execution_count": 1,
     "metadata": {},
     "output_type": "execute_result"
    }
   ],
   "source": [
    "import functools\n",
    "import sys\n",
    "import matplotlib.pyplot as plt\n",
    "import numpy as np\n",
    "import tqdm\n",
    "import random\n",
    "import re\n",
    "from sklearn.model_selection import train_test_split\n",
    "from nltk.corpus import stopwords\n",
    "import pandas as pd\n",
    "import torch\n",
    "import torch.nn as nn\n",
    "import torch.optim as optim\n",
    "from collections import Counter\n",
    "# from transformer_model import TransformerEncoder\n",
    "from transformer import TransformerEncoder\n",
    "from torch.utils.data import Dataset\n",
    "import nltk\n",
    "nltk.download('stopwords')\n"
   ]
  },
  {
   "cell_type": "code",
   "execution_count": 2,
   "metadata": {
    "id": "isuh39Vk9WC1"
   },
   "outputs": [],
   "source": [
    "seed = 0\n",
    "torch.manual_seed(seed)\n",
    "random.seed(seed)\n",
    "np.random.seed(seed)"
   ]
  },
  {
   "cell_type": "markdown",
   "metadata": {
    "id": "b-jp7lqz9WC1"
   },
   "source": [
    "## Before start\n"
   ]
  },
  {
   "cell_type": "code",
   "execution_count": 3,
   "metadata": {},
   "outputs": [],
   "source": [
    "import transformers"
   ]
  },
  {
   "cell_type": "code",
   "execution_count": 4,
   "metadata": {},
   "outputs": [
    {
     "name": "stdout",
     "output_type": "stream",
     "text": [
      "4.11.3\n"
     ]
    }
   ],
   "source": [
    "print(transformers.__version__)"
   ]
  },
  {
   "cell_type": "code",
   "execution_count": 5,
   "metadata": {
    "id": "SJFf5T2V9WC2"
   },
   "outputs": [],
   "source": [
    "class IMDB(Dataset):\n",
    "    def __init__(self, x, y, tokenizer, max_length=256) -> None:\n",
    "        \"\"\"\n",
    "        :param split: can be either \"train\", \"val\" or \"test\".\n",
    "        :param tokenizer: a simple tokenizer object.\n",
    "        \"\"\"\n",
    "        self.x = x\n",
    "        self.y = y\n",
    "        self.tokenizer = tokenizer\n",
    "        self.max_length = max_length\n",
    "\n",
    "    def __getitem__(self, idx: int):\n",
    "        # tokenize for question(c)\n",
    "        if USE_PRETRAINED_TOKENIZER :\n",
    "            # pass\n",
    "            token_ids = self.tokenizer(self.x[idx], truncation = True)['input_ids']\n",
    "        else:\n",
    "            token_ids = tokenize(self.tokenizer, self.x[idx])\n",
    "\n",
    "        if self.max_length:\n",
    "            token_ids = token_ids[:self.max_length]\n",
    "\n",
    "        label = 1 if self.y[idx] == 'positive' else 0\n",
    "        return {\"ids\": token_ids, \"length\": len(token_ids), \"label\": label}\n",
    "           \n",
    "        #your code here\n",
    "\n",
    "    def __len__(self) -> int:\n",
    "        return len(self.x)"
   ]
  },
  {
   "cell_type": "markdown",
   "metadata": {},
   "source": [
    "In order to run your transformer, please copy your load_imdb function, build_vocab function, tokenize function in lab1 here"
   ]
  },
  {
   "cell_type": "code",
   "execution_count": 6,
   "metadata": {
    "id": "OULMzk4D9WC3"
   },
   "outputs": [],
   "source": [
    "# My own function in Lab 1 to split one sentence into words\n",
    "# and convert all words into lower cases\n",
    "def split_sentence_into_words (review_sentence) :\n",
    "    split_by_blank = []\n",
    "    all_lower_cases = []\n",
    "    \n",
    "    split_by_blank = review_sentence.split()\n",
    "    for each_word in split_by_blank :\n",
    "        all_lower_cases.append(each_word.lower())\n",
    "    \n",
    "    return all_lower_cases\n",
    "# Your load_imdb here:\n",
    "def load_imdb(base_csv:str = './IMDBDataset.csv'):\n",
    "    \"\"\"\n",
    "    Load the IMDB dataset\n",
    "    :param base_csv: the path of the dataset file.\n",
    "    :return: train, validation and test set.\n",
    "    \"\"\"\n",
    "    # Add your code here.\n",
    "    imdb_data = pd.read_csv(base_csv)\n",
    "    train_validation_data, test_data = train_test_split(imdb_data, \n",
    "                                                        test_size = 0.2, \n",
    "                                                        train_size = 0.8, \n",
    "                                                        random_state = seed)\n",
    "    train_data, validation_data = train_test_split(train_validation_data, \n",
    "                                                   test_size = 0.125, \n",
    "                                                   train_size = 0.875, \n",
    "                                                   random_state = seed)\n",
    "    x_train =      train_data['review'].to_numpy()\n",
    "    x_valid = validation_data['review'].to_numpy()\n",
    "    x_test  =       test_data['review'].to_numpy()\n",
    "    y_train =      train_data['sentiment'].to_numpy()\n",
    "    y_valid = validation_data['sentiment'].to_numpy()\n",
    "    y_test  =       test_data['sentiment'].to_numpy()\n",
    "    \n",
    "    print(f'shape of train data is {x_train.shape}')\n",
    "    print(f'shape of test data is {x_test.shape}')\n",
    "    print(f'shape of valid data is {x_valid.shape}')\n",
    "    return x_train, x_valid, x_test, y_train, y_valid, y_test\n",
    "\n",
    "# Your build_vocab here:\n",
    "def build_vocab(x_train:list, min_freq:int = 5) -> dict:\n",
    "    \"\"\"\n",
    "    build a vocabulary based on the training corpus.\n",
    "    :param x_train:  List. The training corpus. \n",
    "    Each sample in the list is a string of text.\n",
    "    :param min_freq: Int. The frequency threshold for selecting words.\n",
    "    :return: dictionary {word:index}\n",
    "    \"\"\"\n",
    "    # Add your code here. Your code should assign corpus with a list of words.\n",
    "    corpus             = [] # placeholder\n",
    "    x_train_text_words = []\n",
    "    x_train_all_words  = []\n",
    "    \n",
    "    for text_string in x_train :\n",
    "        x_train_text_words.append(split_sentence_into_words(text_string))\n",
    "        \n",
    "    for text_words in x_train_text_words :\n",
    "        for word in text_words :\n",
    "            if word not in STOP_WORDS :\n",
    "                x_train_all_words.append(word)\n",
    "    \n",
    "    freq_count = Counter(x_train_all_words)\n",
    "    for word in freq_count.keys() :\n",
    "        if freq_count[word] >= min_freq :\n",
    "            corpus.append(word)\n",
    "    \n",
    "    # Assign token index to each word in the vocabulary.\n",
    "    vocab = {w:i+2 for i, w in enumerate(corpus)}\n",
    "    vocab[PAD_TOKEN] = PAD_INDEX\n",
    "    vocab[UNK_TOKEN] = UNK_INDEX\n",
    "\n",
    "    return vocab\n",
    "\n",
    "# Your tokenize function here\n",
    "def tokenize(vocab: dict, example: str)-> list:\n",
    "    \"\"\"\n",
    "    Tokenize the give example string into a list of token indices.\n",
    "    :param vocab: dict, the vocabulary.\n",
    "    :param example: a string of text.\n",
    "    :return: a list of token indices.\n",
    "    \"\"\"\n",
    "    token_indices_list = []\n",
    "    \n",
    "    string_to_words = split_sentence_into_words(example)\n",
    "    \n",
    "    for word in string_to_words :\n",
    "        if word not in vocab.keys() :\n",
    "            token_indices_list.append(vocab[UNK_TOKEN])\n",
    "        else :\n",
    "            token_indices_list.append(vocab[word])\n",
    "            \n",
    "    return token_indices_list"
   ]
  },
  {
   "cell_type": "code",
   "execution_count": 7,
   "metadata": {
    "id": "HtJZj6Qk9WC4"
   },
   "outputs": [],
   "source": [
    "# Constance hyperparameters. They have been tested and don't need to be tuned.\n",
    "# USE_PRETRAINED_TOKENIZER = False\n",
    "USE_PRETRAINED_TOKENIZER = True\n",
    "PAD_INDEX = 0\n",
    "UNK_INDEX = 1\n",
    "PAD_TOKEN = '<pad>'\n",
    "UNK_TOKEN = '<unk>'\n",
    "STOP_WORDS = set(stopwords.words('english'))\n",
    "BATCH_SIZE = 16\n",
    "MAX_LENGTH = 256\n",
    "HIDDEN_DIM = 256\n",
    "OUTPUT_DIM = 2\n",
    "N_LAYERS = 3\n",
    "ATTN_HEADS = 4\n",
    "DROPOUT_RATE = 0.1\n",
    "\n",
    "LR = 3e-4\n",
    "# N_EPOCHS = 5\n",
    "# N_EPOCHS = 1\n",
    "\n",
    "# N_EPOCHS = 10 is prepared for Question (g) - warm start learning rate schedule\n",
    "N_EPOCHS = 10\n",
    "\n",
    "# Question (g) Warm start learning rate schedule\n",
    "def warm_start_lr (current_epoch) :\n",
    "    if current_epoch == 1 :\n",
    "        updated_lr = 6e-6\n",
    "    if current_epoch == 2 :\n",
    "        updated_lr = 6e-5\n",
    "    if current_epoch == 3 :\n",
    "        updated_lr = 1e-4\n",
    "    if current_epoch == 4 :\n",
    "        updated_lr = 3e-4\n",
    "    if current_epoch == 5 :\n",
    "        updated_lr = 2.5e-4\n",
    "    if current_epoch == 6 :\n",
    "        updated_lr = 2e-4\n",
    "    if current_epoch == 7 :\n",
    "        updated_lr = 1.5e-4\n",
    "    if current_epoch == 8 :\n",
    "        updated_lr = 1e-4\n",
    "    if current_epoch == 9 :\n",
    "        updated_lr = 0.5e-4\n",
    "    if current_epoch == 10 :\n",
    "        updated_lr = 6e-5\n",
    "    \n",
    "    return updated_lr\n"
   ]
  },
  {
   "cell_type": "code",
   "execution_count": 8,
   "metadata": {
    "id": "3Su5_gOY9WC5"
   },
   "outputs": [],
   "source": [
    "def collate(batch, pad_index):\n",
    "    batch_ids = [torch.LongTensor(i['ids']) for i in batch]\n",
    "    batch_ids = nn.utils.rnn.pad_sequence(batch_ids, padding_value=pad_index, batch_first=True)\n",
    "    batch_label = torch.LongTensor([i['label'] for i in batch])\n",
    "    batch = {'ids': batch_ids, 'label': batch_label}\n",
    "    return batch\n"
   ]
  },
  {
   "cell_type": "markdown",
   "metadata": {
    "id": "vN6tpiOq9WC6"
   },
   "source": [
    "## Q(a)Implement Transformer’s multi-head attention mechanism. \n",
    "Open the attention.py file\n",
    "and implement the class calledMultiHeadedAttention. Use the layers initialized in the __init__\n",
    "function. Compute attention between query and key. Apply the obtained attention scores on\n",
    "value. Take care of the multi-head machenism. Apply a fc layer to the output before return.\n",
    "The transformer.py notebook calls the MultiHeadedAttention module in the attention.\n",
    "py notebook to establish a Transformer model. Then the lab2.ipynb notebook calls the\n",
    "Transformer model when initializing the model for sentiment analysis.<br>\n",
    "\n",
    "Write your code in the attention.py "
   ]
  },
  {
   "cell_type": "code",
   "execution_count": 9,
   "metadata": {
    "id": "qMgj84Yo9WC6"
   },
   "outputs": [],
   "source": [
    "class Transformer(nn.Module):\n",
    "    def __init__(self, transformer, output_dim, freeze):\n",
    "        super().__init__()\n",
    "        self.transformer = transformer\n",
    "        hidden_dim = transformer.hidden\n",
    "        self.fc = nn.Linear(hidden_dim, output_dim)\n",
    "\n",
    "        if freeze:\n",
    "            for param in self.transformer.parameters():\n",
    "                param.requires_grad = False\n",
    "\n",
    "    def forward(self, ids):\n",
    "        \"\"\"\n",
    "        :param ids: [batch size, seq len]\n",
    "        :return: prediction of size [batch size, output dim]\n",
    "        \"\"\"\n",
    "        output = self.transformer(ids)\n",
    "        cls_hidden = output[:,0,:]\n",
    "        prediction = self.fc(torch.tanh(cls_hidden))\n",
    "        return prediction\n",
    "\n",
    "def count_parameters(model):\n",
    "    return sum(p.numel() for p in model.parameters() if p.requires_grad)\n",
    "\n",
    "def train(dataloader, model, criterion, optimizer, device):\n",
    "    model.train()\n",
    "    epoch_losses = []\n",
    "    epoch_accs = []\n",
    "\n",
    "    for batch in tqdm.tqdm(dataloader, desc='training...', file=sys.stdout):\n",
    "        ids = batch['ids'].to(device)\n",
    "        label = batch['label'].to(device)\n",
    "        prediction = model(ids)\n",
    "        loss = criterion(prediction, label)\n",
    "        accuracy = get_accuracy(prediction, label)\n",
    "        optimizer.zero_grad()\n",
    "        loss.backward()\n",
    "        optimizer.step()\n",
    "        epoch_losses.append(loss.item())\n",
    "        epoch_accs.append(accuracy.item())\n",
    "\n",
    "    return epoch_losses, epoch_accs\n",
    "\n",
    "def evaluate(dataloader, model, criterion, device):\n",
    "    model.eval()\n",
    "    epoch_losses = []\n",
    "    epoch_accs = []\n",
    "\n",
    "    with torch.no_grad():\n",
    "        for batch in tqdm.tqdm(dataloader, desc='evaluating...', file=sys.stdout):\n",
    "            ids = batch['ids'].to(device)\n",
    "            label = batch['label'].to(device)\n",
    "            prediction = model(ids)\n",
    "            loss = criterion(prediction, label)\n",
    "            accuracy = get_accuracy(prediction, label)\n",
    "            epoch_losses.append(loss.item())\n",
    "            epoch_accs.append(accuracy.item())\n",
    "\n",
    "    return epoch_losses, epoch_accs\n",
    "\n",
    "\n",
    "def get_accuracy(prediction, label):\n",
    "    batch_size, _ = prediction.shape\n",
    "    predicted_classes = prediction.argmax(dim=-1)\n",
    "    correct_predictions = predicted_classes.eq(label).sum()\n",
    "    accuracy = correct_predictions / batch_size\n",
    "    return accuracy\n"
   ]
  },
  {
   "cell_type": "markdown",
   "metadata": {
    "id": "jrKa_c6M9WC7"
   },
   "source": [
    "## Q(b) Train your model!\n",
    "Train themodel for 5 epochs. Copy the plotted figures of training/validation loss/accuracy\n",
    "to your self-contained pdf report. What is your testing accuracy? What is your model size? (The\n",
    "provided code contains the plot function and computation of test accuracy. You just need to\n",
    "report the value of testing accuracy.)"
   ]
  },
  {
   "cell_type": "code",
   "execution_count": 10,
   "metadata": {
    "colab": {
     "base_uri": "https://localhost:8080/",
     "height": 749
    },
    "id": "nyqA-LTr9WC8",
    "outputId": "3c5a8cf6-a8b1-4653-8f46-85a8aa9714e9"
   },
   "outputs": [
    {
     "name": "stdout",
     "output_type": "stream",
     "text": [
      "shape of train data is (35000,)\n",
      "shape of test data is (10000,)\n",
      "shape of valid data is (5000,)\n",
      "Length of vocabulary is 30522\n",
      "The model has 17,997,826 trainable parameters\n",
      "training...: 100%|█████████████████████████████████████████████████████████████████| 2188/2188 [01:59<00:00, 18.32it/s]\n",
      "evaluating...: 100%|█████████████████████████████████████████████████████████████████| 313/313 [00:07<00:00, 43.42it/s]\n",
      "epoch: 1\n",
      "current_learning_rate: 6e-06\n",
      "train_loss: 0.683, train_acc: 0.550\n",
      "valid_loss: 0.622, valid_acc: 0.662\n",
      "training...: 100%|█████████████████████████████████████████████████████████████████| 2188/2188 [02:00<00:00, 18.18it/s]\n",
      "evaluating...: 100%|█████████████████████████████████████████████████████████████████| 313/313 [00:07<00:00, 43.25it/s]\n",
      "epoch: 2\n",
      "current_learning_rate: 6e-05\n",
      "train_loss: 0.554, train_acc: 0.709\n",
      "valid_loss: 0.479, valid_acc: 0.769\n",
      "training...: 100%|█████████████████████████████████████████████████████████████████| 2188/2188 [02:00<00:00, 18.11it/s]\n",
      "evaluating...: 100%|█████████████████████████████████████████████████████████████████| 313/313 [00:07<00:00, 41.95it/s]\n",
      "epoch: 3\n",
      "current_learning_rate: 0.0001\n",
      "train_loss: 0.436, train_acc: 0.796\n",
      "valid_loss: 0.399, valid_acc: 0.820\n",
      "training...: 100%|█████████████████████████████████████████████████████████████████| 2188/2188 [02:01<00:00, 18.08it/s]\n",
      "evaluating...: 100%|█████████████████████████████████████████████████████████████████| 313/313 [00:07<00:00, 41.81it/s]\n",
      "epoch: 4\n",
      "current_learning_rate: 0.0003\n",
      "train_loss: 0.377, train_acc: 0.832\n",
      "valid_loss: 0.384, valid_acc: 0.834\n",
      "training...: 100%|█████████████████████████████████████████████████████████████████| 2188/2188 [02:00<00:00, 18.09it/s]\n",
      "evaluating...: 100%|█████████████████████████████████████████████████████████████████| 313/313 [00:07<00:00, 42.55it/s]\n",
      "epoch: 5\n",
      "current_learning_rate: 0.00025\n",
      "train_loss: 0.307, train_acc: 0.871\n",
      "valid_loss: 0.351, valid_acc: 0.852\n",
      "training...: 100%|█████████████████████████████████████████████████████████████████| 2188/2188 [02:02<00:00, 17.83it/s]\n",
      "evaluating...: 100%|█████████████████████████████████████████████████████████████████| 313/313 [00:07<00:00, 41.49it/s]\n",
      "epoch: 6\n",
      "current_learning_rate: 0.0002\n",
      "train_loss: 0.263, train_acc: 0.893\n",
      "valid_loss: 0.365, valid_acc: 0.861\n",
      "training...: 100%|█████████████████████████████████████████████████████████████████| 2188/2188 [02:02<00:00, 17.83it/s]\n",
      "evaluating...: 100%|█████████████████████████████████████████████████████████████████| 313/313 [00:07<00:00, 41.73it/s]\n",
      "epoch: 7\n",
      "current_learning_rate: 0.00015\n",
      "train_loss: 0.228, train_acc: 0.910\n",
      "valid_loss: 0.387, valid_acc: 0.867\n",
      "training...: 100%|█████████████████████████████████████████████████████████████████| 2188/2188 [02:01<00:00, 17.98it/s]\n",
      "evaluating...: 100%|█████████████████████████████████████████████████████████████████| 313/313 [00:07<00:00, 42.41it/s]\n",
      "epoch: 8\n",
      "current_learning_rate: 0.0001\n",
      "train_loss: 0.196, train_acc: 0.924\n",
      "valid_loss: 0.381, valid_acc: 0.861\n",
      "training...: 100%|█████████████████████████████████████████████████████████████████| 2188/2188 [02:01<00:00, 17.99it/s]\n",
      "evaluating...: 100%|█████████████████████████████████████████████████████████████████| 313/313 [00:07<00:00, 42.36it/s]\n",
      "epoch: 9\n",
      "current_learning_rate: 5e-05\n",
      "train_loss: 0.172, train_acc: 0.935\n",
      "valid_loss: 0.390, valid_acc: 0.861\n",
      "training...: 100%|█████████████████████████████████████████████████████████████████| 2188/2188 [02:02<00:00, 17.93it/s]\n",
      "evaluating...: 100%|█████████████████████████████████████████████████████████████████| 313/313 [00:07<00:00, 40.64it/s]\n",
      "epoch: 10\n",
      "current_learning_rate: 6e-05\n",
      "train_loss: 0.164, train_acc: 0.938\n",
      "valid_loss: 0.406, valid_acc: 0.859\n",
      "evaluating...: 100%|█████████████████████████████████████████████████████████████████| 625/625 [00:14<00:00, 41.76it/s]\n",
      "test_loss: 0.352, test_acc: 0.854\n",
      "(0, 0.9948587417602539)\n",
      "(1, 0.996350884437561)\n",
      "(1, 0.5301469564437866)\n",
      "(1, 0.5301468968391418)\n"
     ]
    },
    {
     "data": {
      "image/png": "[encoded data removed]",
      "text/plain": [
       "<Figure size 720x432 with 1 Axes>"
      ]
     },
     "metadata": {
      "needs_background": "light"
     },
     "output_type": "display_data"
    },
    {
     "data": {
      "image/png": "[encoded data removed]",
      "text/plain": [
       "<Figure size 720x432 with 1 Axes>"
      ]
     },
     "metadata": {
      "needs_background": "light"
     },
     "output_type": "display_data"
    }
   ],
   "source": [
    "x_train, x_valid, x_test, y_train, y_valid, y_test = load_imdb()\n",
    "\n",
    "if USE_PRETRAINED_TOKENIZER:\n",
    "    #Your code here for Q(c)\n",
    "    # pass\n",
    "    transformer_name = 'bert-base-uncased'\n",
    "    tokenizer = transformers.AutoTokenizer.from_pretrained(transformer_name)\n",
    "    vocab_size = len(tokenizer)\n",
    "    pad_index = PAD_INDEX\n",
    "else:\n",
    "    tokenizer = build_vocab(x_train)\n",
    "    vocab_size = len(tokenizer)\n",
    "    pad_index = PAD_INDEX\n",
    "\n",
    "print(f'Length of vocabulary is {vocab_size}')\n",
    "\n",
    "train_data = IMDB(x_train, y_train, tokenizer, MAX_LENGTH)\n",
    "valid_data = IMDB(x_valid, y_valid, tokenizer, MAX_LENGTH)\n",
    "test_data = IMDB(x_test, y_test, tokenizer, MAX_LENGTH)\n",
    "\n",
    "collate = functools.partial(collate, pad_index=pad_index)\n",
    "train_dataloader = torch.utils.data.DataLoader(train_data,\n",
    "                                               batch_size=BATCH_SIZE,\n",
    "                                               collate_fn=collate,\n",
    "                                               shuffle=True)\n",
    "valid_dataloader = torch.utils.data.DataLoader(valid_data, batch_size=BATCH_SIZE, collate_fn=collate)\n",
    "test_dataloader = torch.utils.data.DataLoader(test_data, batch_size=BATCH_SIZE, collate_fn=collate)\n",
    "\n",
    "# Model\n",
    "transformer = TransformerEncoder(len(tokenizer), hidden=256, n_layers=3, attn_heads=4, dropout=0.1)\n",
    "model = Transformer(transformer, OUTPUT_DIM, False)    # finetune the whole BERT\n",
    "print(f'The model has {count_parameters(model):,} trainable parameters')\n",
    "\n",
    "# Optimization\n",
    "# optimizer = optim.Adam(model.parameters(), lr = LR)\n",
    "criterion = nn.CrossEntropyLoss()\n",
    "device = torch.device('cuda' if torch.cuda.is_available() else 'cpu')\n",
    "model = model.to(device)\n",
    "criterion = criterion.to(device)\n",
    "\n",
    "# Start training\n",
    "best_valid_loss = float('inf')\n",
    "train_losses = []\n",
    "train_accs = []\n",
    "valid_losses = []\n",
    "valid_accs = []\n",
    "epoch_train_accuracies = []\n",
    "epoch_valid_accuracies = []\n",
    "\n",
    "for epoch in range(N_EPOCHS) :\n",
    "    \n",
    "    # Question (g) - warm start learning rate schedule\n",
    "    optimizer = optim.Adam(model.parameters(), lr = warm_start_lr(epoch+1))\n",
    "\n",
    "    train_loss, train_acc = train(train_dataloader, model, criterion, optimizer, device)\n",
    "    valid_loss, valid_acc = evaluate(valid_dataloader, model, criterion, device)\n",
    "\n",
    "    train_losses.extend(train_loss)\n",
    "    train_accs.extend(train_acc)\n",
    "    valid_losses.extend(valid_loss)\n",
    "    valid_accs.extend(valid_acc)\n",
    "\n",
    "    epoch_train_loss = np.mean(train_loss)\n",
    "    epoch_train_acc = np.mean(train_acc)\n",
    "    epoch_valid_loss = np.mean(valid_loss)\n",
    "    epoch_valid_acc = np.mean(valid_acc)\n",
    "\n",
    "    if epoch_valid_loss < best_valid_loss:\n",
    "        best_valid_loss = epoch_valid_loss\n",
    "        torch.save(model.state_dict(), 'transformer.pt')\n",
    "\n",
    "    print(f'epoch: {epoch+1}')\n",
    "    print(f'current_learning_rate: {warm_start_lr(epoch+1)}')\n",
    "    print(f'train_loss: {epoch_train_loss:.3f}, train_acc: {epoch_train_acc:.3f}')\n",
    "    print(f'valid_loss: {epoch_valid_loss:.3f}, valid_acc: {epoch_valid_acc:.3f}')\n",
    "    epoch_train_accuracies.append(epoch_train_acc)\n",
    "    epoch_valid_accuracies.append(epoch_valid_acc)\n",
    "\n",
    "fig = plt.figure(figsize=(10,6))\n",
    "ax = fig.add_subplot(1,1,1)\n",
    "ax.plot(train_losses, label='train loss')\n",
    "ax.plot(valid_losses, label='valid loss')\n",
    "plt.legend()\n",
    "ax.set_xlabel('updates')\n",
    "ax.set_ylabel('loss')\n",
    "\n",
    "fig = plt.figure(figsize=(10,6))\n",
    "ax = fig.add_subplot(1,1,1)\n",
    "ax.plot(train_accs, label='train accuracy')\n",
    "ax.plot(valid_accs, label='valid accuracy')\n",
    "plt.legend()\n",
    "ax.set_xlabel('updates')\n",
    "ax.set_ylabel('accuracy')\n",
    "\n",
    "model.load_state_dict(torch.load('transformer.pt'))\n",
    "\n",
    "test_loss, test_acc = evaluate(test_dataloader, model, criterion, device)\n",
    "\n",
    "epoch_test_loss = np.mean(test_loss)\n",
    "epoch_test_acc = np.mean(test_acc)\n",
    "print(f'test_loss: {epoch_test_loss:.3f}, test_acc: {epoch_test_acc:.3f}')\n",
    "\n",
    "\n",
    "def predict_sentiment(text, model, tokenizer, device) :\n",
    "    \n",
    "    if USE_PRETRAINED_TOKENIZER : \n",
    "        # pass\n",
    "        ids = tokenizer(text, truncation = True)['input_ids']\n",
    "    else:\n",
    "        tokens = tokenize(tokenizer, text)\n",
    "        ids = [tokenizer[t] if t in tokenizer else UNK_INDEX for t in tokens]\n",
    "\n",
    "    tensor = torch.LongTensor(ids).unsqueeze(dim=0).to(device)\n",
    "    prediction = model(tensor).squeeze(dim=0)\n",
    "    probability = torch.softmax(prediction, dim=-1)\n",
    "    predicted_class = prediction.argmax(dim=-1).item()\n",
    "    predicted_probability = probability[predicted_class].item()\n",
    "    return predicted_class, predicted_probability\n",
    "\n",
    "\n",
    "text = \"This film is terrible!\"\n",
    "print(predict_sentiment(text, model, tokenizer, device))\n",
    "\n",
    "text = \"This film is great!\"\n",
    "print(predict_sentiment(text, model, tokenizer, device))\n",
    "\n",
    "text = \"This film is not terrible, it's great!\"\n",
    "print(predict_sentiment(text, model, tokenizer, device))\n",
    "\n",
    "text = \"This film is not great, it's terrible!\"\n",
    "print(predict_sentiment(text, model, tokenizer, device))\n"
   ]
  },
  {
   "cell_type": "markdown",
   "metadata": {
    "id": "T24gMMT19WC9"
   },
   "source": [
    "## Q(c) Pre-trained tokenizer Usage\n",
    "Up until now, you have been using your own implemented vocabulary and the provide\n",
    "tokenization function. What if you want to use a tokenizer of a pre-trained model such as BERT?\n",
    "Please replace your the vocabulary and tokenizer with\n",
    "transformers:AutoT okenizer:frompretrained(transformer_name) where\n",
    "transformer_name ='bert-base-uncased'. Note that this will/should not load the pre-trained\n",
    "BERT model but just the tokenizer (which implements the WordPiece algorithm).<br>\n",
    "**Hint:** First you need to set USE_PRETRAINED_TOKENIZER = True, then define your pretrained tokenizer in the training script, make sure your IMDB class get-item function and also predict_sentiment could support pre-trained tokenizer. Please do not remove other code, write your code like if USE_PRETRAINED_TOKENIZER:..., else:..."
   ]
  },
  {
   "cell_type": "code",
   "execution_count": 12,
   "metadata": {},
   "outputs": [
    {
     "name": "stdout",
     "output_type": "stream",
     "text": [
      "EPOCH = 1\n",
      "Current Learning Rate = 6e-06\n",
      "Train Accuracy = 0.5498743144424132\n",
      "Valid Accuracy = 0.6615415335463258\n",
      "------------------------------------------------------------\n",
      "EPOCH = 2\n",
      "Current Learning Rate = 6e-05\n",
      "Train Accuracy = 0.7085808957952467\n",
      "Valid Accuracy = 0.7689696485623003\n",
      "------------------------------------------------------------\n",
      "EPOCH = 3\n",
      "Current Learning Rate = 0.0001\n",
      "Train Accuracy = 0.7957895338208409\n",
      "Valid Accuracy = 0.8196884984025559\n",
      "------------------------------------------------------------\n",
      "EPOCH = 4\n",
      "Current Learning Rate = 0.0003\n",
      "Train Accuracy = 0.8321812157221207\n",
      "Valid Accuracy = 0.834464856230032\n",
      "------------------------------------------------------------\n",
      "EPOCH = 5\n",
      "Current Learning Rate = 0.00025\n",
      "Train Accuracy = 0.8710009140767825\n",
      "Valid Accuracy = 0.8516373801916933\n",
      "------------------------------------------------------------\n",
      "EPOCH = 6\n",
      "Current Learning Rate = 0.0002\n",
      "Train Accuracy = 0.8926816727605119\n",
      "Valid Accuracy = 0.8614217252396166\n",
      "------------------------------------------------------------\n",
      "EPOCH = 7\n",
      "Current Learning Rate = 0.00015\n",
      "Train Accuracy = 0.9098206124314442\n",
      "Valid Accuracy = 0.8674121405750799\n",
      "------------------------------------------------------------\n",
      "EPOCH = 8\n",
      "Current Learning Rate = 0.0001\n",
      "Train Accuracy = 0.9240173674588665\n",
      "Valid Accuracy = 0.8612220447284346\n",
      "------------------------------------------------------------\n",
      "EPOCH = 9\n",
      "Current Learning Rate = 5e-05\n",
      "Train Accuracy = 0.9351862431444241\n",
      "Valid Accuracy = 0.8610223642172524\n",
      "------------------------------------------------------------\n",
      "EPOCH = 10\n",
      "Current Learning Rate = 6e-05\n",
      "Train Accuracy = 0.9384712065813529\n",
      "Valid Accuracy = 0.8590255591054313\n",
      "------------------------------------------------------------\n"
     ]
    }
   ],
   "source": [
    "# print(epoch_train_accuracies)\n",
    "# print(epoch_valid_accuracies)\n",
    "for i in range(len(epoch_train_accuracies)) :\n",
    "    print(\"EPOCH = \" + str(i + 1))\n",
    "    print(\"Current Learning Rate = \" + str(warm_start_lr(i + 1)))\n",
    "    print(\"Train Accuracy = \" + str(epoch_train_accuracies[i]))\n",
    "    print(\"Valid Accuracy = \" + str(epoch_valid_accuracies[i]))\n",
    "    print(\"------------------------------------------------------------\")"
   ]
  },
  {
   "cell_type": "code",
   "execution_count": null,
   "metadata": {
    "id": "lU2Hxxn99WC9"
   },
   "outputs": [],
   "source": [
    "USE_PRETRAINED_TOKENIZER = True\n",
    "##### write your code in the upward training code\n"
   ]
  },
  {
   "cell_type": "markdown",
   "metadata": {
    "id": "NF2cCzZQ9WC9"
   },
   "source": [
    "## Q(d) Train your model\n",
    "Train themodel for 5 epochs. Copy the plotted figures of training/validation loss/accuracy\n",
    "to your self-contained pdf report. What is your testing accuracy? What is your model size? What\n",
    "do you observe when comparing this with the original model’s performance? (The provided code\n",
    "contains the plot function and computation of test accuracy. You just need to report the value of\n",
    "testing accuracy.)"
   ]
  },
  {
   "cell_type": "markdown",
   "metadata": {
    "id": "kcwEw6xa9WC9"
   },
   "source": [
    "## Q(e) Trainalbe positional embedding\n",
    "Replace the current PositionalEmbedding with a trainable one. Currently, the PositionalEmbedding\n",
    "uses the sin and cos function to initialize the positional embedding. These functions are deterministic.\n",
    "Could you change the class to use trainable neural network to initialize the position\n",
    "embeddings. For example, you can use the same embedding layer as the token embedding layer.Write your code in the transformer.py"
   ]
  },
  {
   "cell_type": "markdown",
   "metadata": {
    "id": "b5Ip23Wx9WC-"
   },
   "source": [
    "## Q(f) Train your model\n",
    "Train the model with the updated PositionalEmbedding for 5 epochs. Copy the plotted\n",
    "figures of training/validation loss/accuracy to your self-contained pdf report. What is your\n",
    "testing accuracy? What is your model size? (The provided code contains the plot function and\n",
    "computation of test accuracy. You just need to report the value of testing accuracy.)"
   ]
  },
  {
   "cell_type": "markdown",
   "metadata": {
    "id": "_zba6GpT9WC-"
   },
   "source": [
    "## Q(g) Learning rate schedule\n",
    "Warm start learning rate schedule is a useful technique for training Transformers. The\n",
    "learning rate starts from a very small value at the beginning of the training. Then, in the first few\n",
    "epochs, it is gradually increased to a peak value. After then, the learning rate gradually decreases\n",
    "throughout the remaining training. Please implement the warm start learning rate schedule and\n",
    "run your code with that.<br>\n",
    "**hint**: you need to assign a different learning rate for each epoch,which you should change the script by yourself\n"
   ]
  },
  {
   "cell_type": "code",
   "execution_count": null,
   "metadata": {
    "id": "d2Ur9A549WC-"
   },
   "outputs": [],
   "source": []
  }
 ],
 "metadata": {
  "accelerator": "GPU",
  "colab": {
   "name": "Lab2-Copy1.ipynb",
   "provenance": []
  },
  "kernelspec": {
   "display_name": "Python 3 (ipykernel)",
   "language": "python",
   "name": "python3"
  },
  "language_info": {
   "codemirror_mode": {
    "name": "ipython",
    "version": 3
   },
   "file_extension": ".py",
   "mimetype": "text/x-python",
   "name": "python",
   "nbconvert_exporter": "python",
   "pygments_lexer": "ipython3",
   "version": "3.9.7"
  }
 },
 "nbformat": 4,
 "nbformat_minor": 1
}
