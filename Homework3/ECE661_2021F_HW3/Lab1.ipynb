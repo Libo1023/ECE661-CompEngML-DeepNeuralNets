{
 "cells": [
  {
   "cell_type": "markdown",
   "metadata": {
    "id": "AhDUFBxt9xZg"
   },
   "source": [
    "# Implement and train a LSTM for sentiment analysis"
   ]
  },
  {
   "cell_type": "markdown",
   "metadata": {
    "id": "gW6ymxu99xZk"
   },
   "source": [
    "## Step 0: set up the environment"
   ]
  },
  {
   "cell_type": "code",
   "execution_count": 1,
   "metadata": {
    "colab": {
     "base_uri": "https://localhost:8080/"
    },
    "executionInfo": {
     "elapsed": 129,
     "status": "ok",
     "timestamp": 1632424039407,
     "user": {
      "displayName": "于安安",
      "photoUrl": "https://lh3.googleusercontent.com/a/default-user=s64",
      "userId": "13100696601280815207"
     },
     "user_tz": 240
    },
    "id": "Spc_UH4B9xZl",
    "outputId": "3989aa4b-d3ab-41a6-d2c9-8e046773b9f2"
   },
   "outputs": [
    {
     "name": "stderr",
     "output_type": "stream",
     "text": [
      "[nltk_data] Downloading package stopwords to\n",
      "[nltk_data]     C:\\Users\\Administrator\\AppData\\Roaming\\nltk_data...\n",
      "[nltk_data]   Package stopwords is already up-to-date!\n"
     ]
    },
    {
     "data": {
      "text/plain": [
       "True"
      ]
     },
     "execution_count": 1,
     "metadata": {},
     "output_type": "execute_result"
    }
   ],
   "source": [
    "import functools\n",
    "import sys\n",
    "import numpy as np\n",
    "import pandas as pd\n",
    "import random\n",
    "import re\n",
    "import matplotlib.pyplot as plt\n",
    "import tqdm\n",
    "import nltk\n",
    "from sklearn.model_selection import train_test_split\n",
    "from nltk.corpus import stopwords\n",
    "from collections import Counter\n",
    "import torch\n",
    "import torch.nn as nn\n",
    "import torch.optim as optim\n",
    "from torch.utils.data import Dataset\n",
    "\n",
    "nltk.download('stopwords')"
   ]
  },
  {
   "cell_type": "code",
   "execution_count": 2,
   "metadata": {
    "executionInfo": {
     "elapsed": 5,
     "status": "ok",
     "timestamp": 1632424039547,
     "user": {
      "displayName": "于安安",
      "photoUrl": "https://lh3.googleusercontent.com/a/default-user=s64",
      "userId": "13100696601280815207"
     },
     "user_tz": 240
    },
    "id": "1xhrP-2N9xZn"
   },
   "outputs": [],
   "source": [
    "# Set the random seeds.\n",
    "seed = 0\n",
    "torch.manual_seed(seed)\n",
    "random.seed(seed)\n",
    "np.random.seed(seed)"
   ]
  },
  {
   "cell_type": "code",
   "execution_count": 3,
   "metadata": {
    "executionInfo": {
     "elapsed": 4,
     "status": "ok",
     "timestamp": 1632424039548,
     "user": {
      "displayName": "于安安",
      "photoUrl": "https://lh3.googleusercontent.com/a/default-user=s64",
      "userId": "13100696601280815207"
     },
     "user_tz": 240
    },
    "id": "OxnFjs3f9xZn"
   },
   "outputs": [],
   "source": [
    "# Constance hyperparameters. \n",
    "# They have been tested and don't need to be tuned.\n",
    "PAD_INDEX = 0\n",
    "UNK_INDEX = 1\n",
    "PAD_TOKEN = '<pad>'\n",
    "UNK_TOKEN = '<unk>'\n",
    "STOP_WORDS = set(stopwords.words('english'))\n",
    "MAX_LENGTH = 256\n",
    "BATCH_SIZE = 16\n",
    "EMBEDDING_DIM = 256\n",
    "HIDDEN_DIM = 256\n",
    "OUTPUT_DIM = 2\n",
    "N_LAYERS = 3\n",
    "DROPOUT_RATE = 0.1\n",
    "LR = 3e-4\n",
    "N_EPOCHS = 5"
   ]
  },
  {
   "cell_type": "markdown",
   "metadata": {
    "id": "XODz_aDV9xZo"
   },
   "source": [
    "## Q(a): Implement your own data loader function.  \n",
    "Q: Implement your own data loader function.  \n",
    "First, you need to read the data from the dataset file on the local disk. \n",
    "You can leverage the train_test_split function from sklearn.model_selection. If you want to reproduce the same result every round, remember to set the random_state argument in train_test_split as a constant value.  \n",
    "Finally return x_train, x_valid, x_test, y_train, y_valid, y_test where x represents reviews and y represent labels.   "
   ]
  },
  {
   "cell_type": "code",
   "execution_count": 4,
   "metadata": {
    "executionInfo": {
     "elapsed": 4,
     "status": "ok",
     "timestamp": 1632424039548,
     "user": {
      "displayName": "于安安",
      "photoUrl": "https://lh3.googleusercontent.com/a/default-user=s64",
      "userId": "13100696601280815207"
     },
     "user_tz": 240
    },
    "id": "AD7HSvM19xZp"
   },
   "outputs": [],
   "source": [
    "def load_imdb(base_csv:str = './IMDBDataset.csv'):\n",
    "    \"\"\"\n",
    "    Load the IMDB dataset\n",
    "    :param base_csv: the path of the dataset file.\n",
    "    :return: train, validation and test set.\n",
    "    \"\"\"\n",
    "    # Add your code here.\n",
    "    imdb_data = pd.read_csv(base_csv)\n",
    "    train_validation_data, test_data = train_test_split(imdb_data, \n",
    "                                                        test_size = 0.2, \n",
    "                                                        train_size = 0.8, \n",
    "                                                        random_state = seed)\n",
    "    train_data, validation_data = train_test_split(train_validation_data, \n",
    "                                                   test_size = 0.125, \n",
    "                                                   train_size = 0.875, \n",
    "                                                   random_state = seed)\n",
    "    x_train =      train_data['review'].to_numpy()\n",
    "    x_valid = validation_data['review'].to_numpy()\n",
    "    x_test  =       test_data['review'].to_numpy()\n",
    "    y_train =      train_data['sentiment'].to_numpy()\n",
    "    y_valid = validation_data['sentiment'].to_numpy()\n",
    "    y_test  =       test_data['sentiment'].to_numpy()\n",
    "    \n",
    "    print(f'shape of train data is {x_train.shape}')\n",
    "    print(f'shape of test data is {x_test.shape}')\n",
    "    print(f'shape of valid data is {x_valid.shape}')\n",
    "    return x_train, x_valid, x_test, y_train, y_valid, y_test\n",
    "\n",
    "# incremental testing\n",
    "#xt1, xt2, xt3, yt1, yt2, yt3 = load_imdb()\n",
    "#print(yt1.shape)\n",
    "#print(yt2.shape)\n",
    "#print(yt3.shape)"
   ]
  },
  {
   "cell_type": "markdown",
   "metadata": {
    "id": "KYVH6t--9xZq"
   },
   "source": [
    "## Q(b): Implement the build_vocab function to build a vocabulary based on the training corpus\n",
    "You should first compute the frequency of all the words in the training corpus.\n",
    "Avoid the words that are in the STOP_WORDS. \n",
    "Filter the words by their frequency (>=min_freq).\n",
    "Generate a corpus variable which contains a list of words.  "
   ]
  },
  {
   "cell_type": "code",
   "execution_count": 5,
   "metadata": {},
   "outputs": [],
   "source": [
    "# My own function to split each review sentence\n",
    "# into separate words\n",
    "def split_sentence_into_words (review_sentence) :\n",
    "    split_by_blank = []\n",
    "    all_lower_cases = []\n",
    "    \n",
    "    split_by_blank = review_sentence.split()\n",
    "    for each_word in split_by_blank :\n",
    "        all_lower_cases.append(each_word.lower())\n",
    "    \n",
    "    return all_lower_cases"
   ]
  },
  {
   "cell_type": "code",
   "execution_count": 6,
   "metadata": {
    "executionInfo": {
     "elapsed": 141,
     "status": "ok",
     "timestamp": 1632424039686,
     "user": {
      "displayName": "于安安",
      "photoUrl": "https://lh3.googleusercontent.com/a/default-user=s64",
      "userId": "13100696601280815207"
     },
     "user_tz": 240
    },
    "id": "sugI5VoJ9xZr"
   },
   "outputs": [],
   "source": [
    "\n",
    "def build_vocab(x_train:list, min_freq:int = 5) -> dict:\n",
    "    \"\"\"\n",
    "    build a vocabulary based on the training corpus.\n",
    "    :param x_train:  List. The training corpus. \n",
    "    Each sample in the list is a string of text.\n",
    "    :param min_freq: Int. The frequency threshold for selecting words.\n",
    "    :return: dictionary {word:index}\n",
    "    \"\"\"\n",
    "    # Add your code here. Your code should assign corpus with a list of words.\n",
    "    corpus             = [] # placeholder\n",
    "    x_train_text_words = []\n",
    "    x_train_all_words  = []\n",
    "    \n",
    "    for text_string in x_train :\n",
    "        x_train_text_words.append(split_sentence_into_words(text_string))\n",
    "        \n",
    "    for text_words in x_train_text_words :\n",
    "        for word in text_words :\n",
    "            if word not in STOP_WORDS :\n",
    "                x_train_all_words.append(word)\n",
    "    \n",
    "    freq_count = Counter(x_train_all_words)\n",
    "    for word in freq_count.keys() :\n",
    "        if freq_count[word] >= min_freq :\n",
    "            corpus.append(word)\n",
    "    \n",
    "    # Assign token index to each word in the vocabulary.\n",
    "    vocab = {w:i+2 for i, w in enumerate(corpus)}\n",
    "    vocab[PAD_TOKEN] = PAD_INDEX\n",
    "    vocab[UNK_TOKEN] = UNK_INDEX\n",
    "\n",
    "    return vocab\n",
    "\n",
    "# incremental testing\n",
    "#vocab_itest = build_vocab(xt1)\n",
    "#print(len(vocab_itest))"
   ]
  },
  {
   "cell_type": "markdown",
   "metadata": {
    "id": "Ca71G17F9xZt"
   },
   "source": [
    "## Q(c): Implement your tokenize function. \n",
    "\n",
    "For each word, find its index in the vocabulary. \n",
    "Return a list of int that represents the indices of words in the example. "
   ]
  },
  {
   "cell_type": "code",
   "execution_count": 7,
   "metadata": {
    "executionInfo": {
     "elapsed": 5,
     "status": "ok",
     "timestamp": 1632424039686,
     "user": {
      "displayName": "于安安",
      "photoUrl": "https://lh3.googleusercontent.com/a/default-user=s64",
      "userId": "13100696601280815207"
     },
     "user_tz": 240
    },
    "id": "c6kj_qT69xZt"
   },
   "outputs": [],
   "source": [
    "def tokenize(vocab: dict, example: str)-> list:\n",
    "    \"\"\"\n",
    "    Tokenize the give example string into a list of token indices.\n",
    "    :param vocab: dict, the vocabulary.\n",
    "    :param example: a string of text.\n",
    "    :return: a list of token indices.\n",
    "    \"\"\"\n",
    "    token_indices_list = []\n",
    "    \n",
    "    string_to_words = split_sentence_into_words(example)\n",
    "    \n",
    "    for word in string_to_words :\n",
    "        if word not in vocab.keys() :\n",
    "            token_indices_list.append(vocab[UNK_TOKEN])\n",
    "        else :\n",
    "            token_indices_list.append(vocab[word])\n",
    "            \n",
    "    return token_indices_list"
   ]
  },
  {
   "cell_type": "markdown",
   "metadata": {
    "id": "e9ntSo4k9xZu"
   },
   "source": [
    "## Q(d): Implement the __getitem__ function.\n",
    "Given an index i, you should return the i-th review\n",
    "and label. The review is originally a string. Please tokenize it into a sequence of token indices.\n",
    "Use the max_length parameter to truncate the sequence so that it contains at most max_length\n",
    "tokens. Convert the label string (’positive’/’negative’) to a binary index. ’positive’ is 1 and ’negative’\n",
    "is 0. Return a dictionary containing three keys: ’ids’, ’length’, ’label’ which represent the list\n",
    "of token ids, the length of the sequence, the binary label."
   ]
  },
  {
   "cell_type": "code",
   "execution_count": 8,
   "metadata": {
    "executionInfo": {
     "elapsed": 5,
     "status": "ok",
     "timestamp": 1632424039687,
     "user": {
      "displayName": "于安安",
      "photoUrl": "https://lh3.googleusercontent.com/a/default-user=s64",
      "userId": "13100696601280815207"
     },
     "user_tz": 240
    },
    "id": "2TDgA4p79xZu"
   },
   "outputs": [],
   "source": [
    "class IMDB(Dataset):\n",
    "    def __init__(self, x, y, vocab, max_length=256) -> None:\n",
    "        \"\"\"\n",
    "        :param x: list of reviews\n",
    "        :param y: list of labels\n",
    "        :param vocab: vocabulary dictionary {word:index}.\n",
    "        :param max_length: the maximum sequence length.\n",
    "        \"\"\"\n",
    "        self.x = x\n",
    "        self.y = y\n",
    "        self.vocab = vocab\n",
    "        self.max_length = max_length\n",
    "\n",
    "    def __getitem__(self, idx: int):\n",
    "        \"\"\"\n",
    "        Return the tokenized review and label by the given index.\n",
    "        :param idx: index of the sample.\n",
    "        :return: a dictionary containing three keys: 'ids', 'length', 'label' which \n",
    "        represent the list of token ids, the length of the sequence, the binary label.\n",
    "        \"\"\"\n",
    "        # Add your code here.\n",
    "        # pass  # placeholder\n",
    "        return_dict = dict()\n",
    "        token_indices_list = tokenize(self.vocab, self.x[idx])\n",
    "        if len(token_indices_list) > self.max_length :\n",
    "            truncate_list = token_indices_list[0:self.max_length]\n",
    "        else :\n",
    "            truncate_list = token_indices_list\n",
    "        \n",
    "        return_dict['ids']    = truncate_list\n",
    "        return_dict['length'] = len(truncate_list)\n",
    "        if self.y[idx] == 'positive' :\n",
    "            return_dict['label'] = 1\n",
    "        if self.y[idx] == 'negative' :\n",
    "            return_dict['label'] = 0\n",
    "        \n",
    "        return return_dict\n",
    "        \n",
    "    def __len__(self) -> int:\n",
    "        return len(self.x)\n",
    "\n",
    "def collate(batch, pad_index):\n",
    "    batch_ids = [torch.LongTensor(i['ids']) for i in batch]\n",
    "    batch_ids = nn.utils.rnn.pad_sequence(batch_ids, padding_value=pad_index, \n",
    "                                          batch_first=True)\n",
    "    batch_length = torch.Tensor([i['length'] for i in batch])\n",
    "    batch_label = torch.LongTensor([i['label'] for i in batch])\n",
    "    batch = {'ids': batch_ids, 'length': batch_length, 'label': batch_label}\n",
    "    return batch"
   ]
  },
  {
   "cell_type": "markdown",
   "metadata": {
    "id": "1zgSPYmf9xZv"
   },
   "source": [
    "## Q(e):Implement the LSTM model for sentiment analysis.\n",
    "Q(a): Implement the initialization function.\n",
    "Write the initialization function. Your task is to create the model by stacking several\n",
    "necessary layers including an embedding layer, a lstm cell, a linear layer, and a dropout layer.\n",
    "You can call functions from Pytorch’s nn library. For example, nn.Embedding, nn.LSTM,\n",
    "nn.Linear.<br>\n",
    "Q(b): Implement the forward function.\n",
    "   Write the forward function. Decide where to apply dropout. The sequences in the\n",
    "batch have different lengths. Write/call a function to pad the sequences into the same length.\n",
    "Apply a fully-connected (fc) layer to the output of the LSTM layer. Return the output features\n",
    "which is of size [batch size, output dim]."
   ]
  },
  {
   "cell_type": "code",
   "execution_count": 9,
   "metadata": {},
   "outputs": [],
   "source": [
    "# Call functions to pad the sequences into the same length\n",
    "from torch.nn.utils.rnn import pack_padded_sequence, pad_packed_sequence"
   ]
  },
  {
   "cell_type": "code",
   "execution_count": 10,
   "metadata": {
    "executionInfo": {
     "elapsed": 5,
     "status": "ok",
     "timestamp": 1632424039687,
     "user": {
      "displayName": "于安安",
      "photoUrl": "https://lh3.googleusercontent.com/a/default-user=s64",
      "userId": "13100696601280815207"
     },
     "user_tz": 240
    },
    "id": "b9ofQ5R29xZv"
   },
   "outputs": [],
   "source": [
    "class LSTM(nn.Module):\n",
    "    def __init__(self, vocab_size:int, embedding_dim:int, hidden_dim:int, \n",
    "                 output_dim:int, n_layers:int, \n",
    "                 dropout_rate:float, pad_index:int):\n",
    "        \"\"\"\n",
    "        Create a LSTM model for classification.\n",
    "        :param vocab_size: size of the vocabulary\n",
    "        :param embedding_dim: dimension of embeddings\n",
    "        :param hidden_dim: dimension of hidden features\n",
    "        :param output_dim: dimension of the output layer \n",
    "        which equals to the number of labels.\n",
    "        :param n_layers: number of layers.\n",
    "        :param dropout_rate: dropout rate.\n",
    "        :param pad_index: index of the padding token.\n",
    "        \"\"\"\n",
    "        super().__init__()\n",
    "        # Add your code here. Initializing each layer by the given arguments.\n",
    "        self.embedding = nn.Embedding(num_embeddings = vocab_size, \n",
    "                                      embedding_dim  = embedding_dim, \n",
    "                                      padding_idx    = pad_index)\n",
    "        self.lstm      = nn.LSTM(embedding_dim, hidden_dim, n_layers)\n",
    "        self.fc        = nn.Linear(in_features  = hidden_dim, \n",
    "                                   out_features = output_dim)\n",
    "        self.dropout   = nn.Dropout(p = dropout_rate)\n",
    "\n",
    "\n",
    "\n",
    "    def forward(self, ids:torch.Tensor, length:torch.Tensor):\n",
    "        \"\"\"\n",
    "        Feed the given token ids to the model.\n",
    "        :param ids: [batch size, seq len] batch of token ids.\n",
    "        :param length: [batch size] batch of length of the token ids.\n",
    "        :return: prediction of size [batch size, output dim].\n",
    "        \"\"\"\n",
    "        # Add your code here.\n",
    "        # pass  # placeholder.\n",
    "        embedding_out   = self.embedding(ids)\n",
    "        pack_padded_out = pack_padded_sequence(embedding_out, \n",
    "                                               length, \n",
    "                                               batch_first    = True, \n",
    "                                               enforce_sorted = False)\n",
    "        lstm_out, (hidden_n_tensor, cell_n_tensor) = self.lstm(pack_padded_out)\n",
    "        pad_packed_out, pad_packed_length = pad_packed_sequence(lstm_out, \n",
    "                                                                batch_first = True)\n",
    "        out = self.dropout(hidden_n_tensor[-1])\n",
    "        out = self.fc(out)\n",
    "        \n",
    "        return out"
   ]
  },
  {
   "cell_type": "code",
   "execution_count": 11,
   "metadata": {
    "executionInfo": {
     "elapsed": 121,
     "status": "ok",
     "timestamp": 1632424039803,
     "user": {
      "displayName": "于安安",
      "photoUrl": "https://lh3.googleusercontent.com/a/default-user=s64",
      "userId": "13100696601280815207"
     },
     "user_tz": 240
    },
    "id": "13Sdl7MV9xZv"
   },
   "outputs": [],
   "source": [
    "##Useful functions do not change\n",
    "def count_parameters(model):\n",
    "    return sum(p.numel() for p in model.parameters() if p.requires_grad)\n",
    "\n",
    "def initialize_weights(m):\n",
    "    if isinstance(m, nn.Linear):\n",
    "        nn.init.xavier_normal_(m.weight)\n",
    "        nn.init.zeros_(m.bias)\n",
    "    elif isinstance(m, nn.LSTM):\n",
    "        for name, param in m.named_parameters():\n",
    "            if 'bias' in name:\n",
    "                nn.init.zeros_(param)\n",
    "            elif 'weight' in name:\n",
    "                nn.init.orthogonal_(param)\n",
    "\n",
    "def train(dataloader, model, criterion, optimizer, device):\n",
    "    model.train()\n",
    "    epoch_losses = []\n",
    "    epoch_accs = []\n",
    "\n",
    "    for batch in tqdm.tqdm(dataloader, desc='training...', file=sys.stdout):\n",
    "        ids = batch['ids'].to(device)\n",
    "        length = batch['length']\n",
    "        label = batch['label'].to(device)\n",
    "        prediction = model(ids, length)\n",
    "        loss = criterion(prediction, label)\n",
    "        accuracy = get_accuracy(prediction, label)\n",
    "        optimizer.zero_grad()\n",
    "        loss.backward()\n",
    "        optimizer.step()\n",
    "        epoch_losses.append(loss.item())\n",
    "        epoch_accs.append(accuracy.item())\n",
    "\n",
    "    return epoch_losses, epoch_accs\n",
    "\n",
    "def evaluate(dataloader, model, criterion, device):\n",
    "    model.eval()\n",
    "    epoch_losses = []\n",
    "    epoch_accs = []\n",
    "\n",
    "    with torch.no_grad():\n",
    "        for batch in tqdm.tqdm(dataloader, desc='evaluating...', file=sys.stdout):\n",
    "            ids = batch['ids'].to(device)\n",
    "            length = batch['length']\n",
    "            label = batch['label'].to(device)\n",
    "            prediction = model(ids, length)\n",
    "            loss = criterion(prediction, label)\n",
    "            accuracy = get_accuracy(prediction, label)\n",
    "            epoch_losses.append(loss.item())\n",
    "            epoch_accs.append(accuracy.item())\n",
    "\n",
    "    return epoch_losses, epoch_accs\n",
    "\n",
    "def get_accuracy(prediction, label):\n",
    "    batch_size, _ = prediction.shape\n",
    "    predicted_classes = prediction.argmax(dim=-1)\n",
    "    correct_predictions = predicted_classes.eq(label).sum()\n",
    "    accuracy = correct_predictions / batch_size\n",
    "    return accuracy\n",
    "\n",
    "def predict_sentiment(text, model, vocab, device):\n",
    "        tokens = tokenize(vocab, text)\n",
    "        ids = [vocab[t] if t in vocab else UNK_INDEX for t in tokens]\n",
    "        length = torch.LongTensor([len(ids)])\n",
    "        tensor = torch.LongTensor(ids).unsqueeze(dim=0).to(device)\n",
    "        prediction = model(tensor, length).squeeze(dim=0)\n",
    "        probability = torch.softmax(prediction, dim=-1)\n",
    "        predicted_class = prediction.argmax(dim=-1).item()\n",
    "        predicted_probability = probability[predicted_class].item()\n",
    "        return predicted_class, predicted_probability\n",
    "\n"
   ]
  },
  {
   "cell_type": "markdown",
   "metadata": {},
   "source": [
    "## Q(f):Train Your model\n",
    "Copy the plotted figures of training/validation loss/accuracy\n",
    "to your self-contained pdf report. What is your testing accuracy? (The provided code contains\n",
    "the plot function and computation of test accuracy. You just need to report the value of testing\n",
    "accuracy.)"
   ]
  },
  {
   "cell_type": "code",
   "execution_count": 12,
   "metadata": {
    "colab": {
     "base_uri": "https://localhost:8080/",
     "height": 579
    },
    "executionInfo": {
     "elapsed": 442161,
     "status": "error",
     "timestamp": 1632424481962,
     "user": {
      "displayName": "于安安",
      "photoUrl": "https://lh3.googleusercontent.com/a/default-user=s64",
      "userId": "13100696601280815207"
     },
     "user_tz": 240
    },
    "id": "qXLkQSnS9xZw",
    "outputId": "3fc551e1-dabf-446d-f2cb-90e70f38d1e4"
   },
   "outputs": [
    {
     "name": "stdout",
     "output_type": "stream",
     "text": [
      "shape of train data is (35000,)\n",
      "shape of test data is (10000,)\n",
      "shape of valid data is (5000,)\n",
      "Length of vocabulary is 56590\n",
      "The model has 16,066,562 trainable parameters\n",
      "training...: 100%|█████████████████████████████████████████████████████████████████| 2188/2188 [01:55<00:00, 19.02it/s]\n",
      "evaluating...: 100%|█████████████████████████████████████████████████████████████████| 313/313 [00:04<00:00, 67.47it/s]\n",
      "epoch: 1\n",
      "train_loss: 0.585, train_acc: 0.676\n",
      "valid_loss: 0.461, valid_acc: 0.786\n",
      "training...: 100%|█████████████████████████████████████████████████████████████████| 2188/2188 [01:54<00:00, 19.08it/s]\n",
      "evaluating...: 100%|█████████████████████████████████████████████████████████████████| 313/313 [00:04<00:00, 68.06it/s]\n",
      "epoch: 2\n",
      "train_loss: 0.385, train_acc: 0.838\n",
      "valid_loss: 0.403, valid_acc: 0.819\n",
      "training...: 100%|█████████████████████████████████████████████████████████████████| 2188/2188 [01:54<00:00, 19.08it/s]\n",
      "evaluating...: 100%|█████████████████████████████████████████████████████████████████| 313/313 [00:04<00:00, 67.66it/s]\n",
      "epoch: 3\n",
      "train_loss: 0.267, train_acc: 0.895\n",
      "valid_loss: 0.399, valid_acc: 0.828\n",
      "training...: 100%|█████████████████████████████████████████████████████████████████| 2188/2188 [01:54<00:00, 19.05it/s]\n",
      "evaluating...: 100%|█████████████████████████████████████████████████████████████████| 313/313 [00:04<00:00, 67.38it/s]\n",
      "epoch: 4\n",
      "train_loss: 0.171, train_acc: 0.938\n",
      "valid_loss: 0.423, valid_acc: 0.838\n",
      "training...: 100%|█████████████████████████████████████████████████████████████████| 2188/2188 [01:55<00:00, 19.00it/s]\n",
      "evaluating...: 100%|█████████████████████████████████████████████████████████████████| 313/313 [00:04<00:00, 67.47it/s]\n",
      "epoch: 5\n",
      "train_loss: 0.102, train_acc: 0.965\n",
      "valid_loss: 0.485, valid_acc: 0.827\n",
      "evaluating...: 100%|█████████████████████████████████████████████████████████████████| 625/625 [00:09<00:00, 66.87it/s]\n",
      "test_loss: 0.411, test_acc: 0.827\n"
     ]
    },
    {
     "data": {
      "image/png": "[encoded data removed]",
      "text/plain": [
       "<Figure size 720x432 with 1 Axes>"
      ]
     },
     "metadata": {
      "needs_background": "light"
     },
     "output_type": "display_data"
    },
    {
     "data": {
      "image/png": "[encoded data removed]",
      "text/plain": [
       "<Figure size 720x432 with 1 Axes>"
      ]
     },
     "metadata": {
      "needs_background": "light"
     },
     "output_type": "display_data"
    }
   ],
   "source": [
    "x_train, x_valid, x_test, y_train, y_valid, y_test = load_imdb()\n",
    "vocab = build_vocab(x_train)\n",
    "vocab_size = len(vocab)\n",
    "print(f'Length of vocabulary is {vocab_size}')\n",
    "\n",
    "train_data = IMDB(x_train, y_train, vocab, MAX_LENGTH)\n",
    "valid_data = IMDB(x_valid, y_valid, vocab, MAX_LENGTH)\n",
    "test_data = IMDB(x_test, y_test, vocab, MAX_LENGTH)\n",
    "\n",
    "collate = functools.partial(collate, pad_index=PAD_INDEX)\n",
    "\n",
    "train_dataloader = torch.utils.data.DataLoader(train_data, \n",
    "                                               batch_size=BATCH_SIZE, \n",
    "                                               collate_fn=collate, \n",
    "                                               shuffle=True)\n",
    "valid_dataloader = torch.utils.data.DataLoader(valid_data, \n",
    "                                               batch_size=BATCH_SIZE, \n",
    "                                               collate_fn=collate)\n",
    "test_dataloader = torch.utils.data.DataLoader(test_data, \n",
    "                                              batch_size=BATCH_SIZE, \n",
    "                                              collate_fn=collate)\n",
    "\n",
    "# Model\n",
    "model = LSTM(vocab_size, EMBEDDING_DIM, HIDDEN_DIM, OUTPUT_DIM, \n",
    "             N_LAYERS, DROPOUT_RATE, PAD_INDEX)\n",
    "print(f'The model has {count_parameters(model):,} trainable parameters')\n",
    "model.apply(initialize_weights)\n",
    "\n",
    "# Optimization\n",
    "optimizer = optim.Adam(model.parameters(), lr=LR)\n",
    "criterion = nn.CrossEntropyLoss()\n",
    "\n",
    "device = torch.device('cuda' if torch.cuda.is_available() else 'cpu')\n",
    "model = model.to(device)\n",
    "criterion = criterion.to(device)\n",
    "\n",
    "# Start training\n",
    "best_valid_loss = float('inf')\n",
    "train_losses = []\n",
    "train_accs = []\n",
    "valid_losses = []\n",
    "valid_accs = []\n",
    "\n",
    "for epoch in range(N_EPOCHS):\n",
    "    train_loss, train_acc = train(train_dataloader, model, \n",
    "                                  criterion, optimizer, device)\n",
    "    valid_loss, valid_acc = evaluate(valid_dataloader, model, criterion, device)\n",
    "\n",
    "    train_losses.extend(train_loss)\n",
    "    train_accs.extend(train_acc)\n",
    "    valid_losses.extend(valid_loss)\n",
    "    valid_accs.extend(valid_acc)\n",
    "\n",
    "    epoch_train_loss = np.mean(train_loss)\n",
    "    epoch_train_acc = np.mean(train_acc)\n",
    "    epoch_valid_loss = np.mean(valid_loss)\n",
    "    epoch_valid_acc = np.mean(valid_acc)\n",
    "\n",
    "    # Save the model that achieves the smallest validation loss.\n",
    "    if epoch_valid_loss < best_valid_loss:\n",
    "        best_valid_loss = epoch_valid_loss\n",
    "        torch.save(model.state_dict(), 'lstm.pt')\n",
    "\n",
    "    print(f'epoch: {epoch+1}')\n",
    "    print(f'train_loss: {epoch_train_loss:.3f}, train_acc: {epoch_train_acc:.3f}')\n",
    "    print(f'valid_loss: {epoch_valid_loss:.3f}, valid_acc: {epoch_valid_acc:.3f}')\n",
    "\n",
    "\n",
    "# Plot training and validation losses.\n",
    "fig = plt.figure(figsize=(10,6))\n",
    "ax = fig.add_subplot(1,1,1)\n",
    "ax.plot(train_losses, label='train loss')\n",
    "ax.plot(valid_losses, label='valid loss')\n",
    "plt.legend()\n",
    "ax.set_xlabel('updates')\n",
    "ax.set_ylabel('loss')\n",
    "\n",
    "# Plot training and validation accuracies.\n",
    "fig = plt.figure(figsize=(10,6))\n",
    "ax = fig.add_subplot(1,1,1)\n",
    "ax.plot(train_accs, label='train accuracy')\n",
    "ax.plot(valid_accs, label='valid accuracy')\n",
    "plt.legend()\n",
    "ax.set_xlabel('updates')\n",
    "ax.set_ylabel('accuracy')\n",
    "\n",
    "\n",
    "# Load the best model's weights.\n",
    "model.load_state_dict(torch.load('lstm.pt'))\n",
    "\n",
    "# Evaluate\n",
    "test_loss, test_acc = evaluate(test_dataloader, model, criterion, device)\n",
    "\n",
    "epoch_test_loss = np.mean(test_loss)\n",
    "epoch_test_acc = np.mean(test_acc)\n",
    "print(f'test_loss: {epoch_test_loss:.3f}, test_acc: {epoch_test_acc:.3f}')\n",
    "\n"
   ]
  },
  {
   "cell_type": "code",
   "execution_count": null,
   "metadata": {
    "executionInfo": {
     "elapsed": 142,
     "status": "aborted",
     "timestamp": 1632424481959,
     "user": {
      "displayName": "于安安",
      "photoUrl": "https://lh3.googleusercontent.com/a/default-user=s64",
      "userId": "13100696601280815207"
     },
     "user_tz": 240
    },
    "id": "m-uQ1tQpAjjq"
   },
   "outputs": [],
   "source": []
  },
  {
   "cell_type": "code",
   "execution_count": null,
   "metadata": {
    "executionInfo": {
     "elapsed": 143,
     "status": "aborted",
     "timestamp": 1632424481960,
     "user": {
      "displayName": "于安安",
      "photoUrl": "https://lh3.googleusercontent.com/a/default-user=s64",
      "userId": "13100696601280815207"
     },
     "user_tz": 240
    },
    "id": "t8C-KiX09xZx"
   },
   "outputs": [],
   "source": []
  },
  {
   "cell_type": "code",
   "execution_count": null,
   "metadata": {
    "executionInfo": {
     "elapsed": 143,
     "status": "aborted",
     "timestamp": 1632424481960,
     "user": {
      "displayName": "于安安",
      "photoUrl": "https://lh3.googleusercontent.com/a/default-user=s64",
      "userId": "13100696601280815207"
     },
     "user_tz": 240
    },
    "id": "VKCu4rPBA2Sp"
   },
   "outputs": [],
   "source": []
  }
 ],
 "metadata": {
  "accelerator": "GPU",
  "colab": {
   "name": "lab1-answer.ipynb",
   "provenance": []
  },
  "kernelspec": {
   "display_name": "Python 3",
   "language": "python",
   "name": "python3"
  },
  "language_info": {
   "codemirror_mode": {
    "name": "ipython",
    "version": 3
   },
   "file_extension": ".py",
   "mimetype": "text/x-python",
   "name": "python",
   "nbconvert_exporter": "python",
   "pygments_lexer": "ipython3",
   "version": "3.6.13"
  }
 },
 "nbformat": 4,
 "nbformat_minor": 1
}
