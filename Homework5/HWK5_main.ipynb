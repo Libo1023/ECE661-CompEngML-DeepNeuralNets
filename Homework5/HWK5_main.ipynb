{
 "cells": [
  {
   "cell_type": "markdown",
   "metadata": {},
   "source": [
    "# Homework 5: Adversarial Attacks and Defenses\n",
    "\n",
    "Duke University\n",
    "\n",
    "ECE661 Fall 2021\n",
    "\n",
    "## Setup\n",
    "\n",
    "You shouldn't have to change anything in these cells"
   ]
  },
  {
   "cell_type": "code",
   "execution_count": 1,
   "metadata": {},
   "outputs": [
    {
     "name": "stdout",
     "output_type": "stream",
     "text": [
      "device: cuda\n"
     ]
    }
   ],
   "source": [
    "import torch\n",
    "import torch.nn as nn\n",
    "import torch.nn.functional as F\n",
    "import torch.optim as optim\n",
    "from torchvision import datasets, transforms\n",
    "import matplotlib.pyplot as plt\n",
    "import numpy as np\n",
    "import random\n",
    "\n",
    "# Custom\n",
    "import models\n",
    "import attacks\n",
    "\n",
    "device = \"cuda\" if torch.cuda.is_available() else \"cpu\"\n",
    "print(\"device:\", device)"
   ]
  },
  {
   "cell_type": "code",
   "execution_count": 2,
   "metadata": {},
   "outputs": [],
   "source": [
    "train_loader = torch.utils.data.DataLoader(\n",
    "    datasets.FashionMNIST('./data', train=True, download=True, transform=transforms.ToTensor()),\n",
    "    batch_size = 64, shuffle=True, )\n",
    "test_loader = torch.utils.data.DataLoader(\n",
    "    datasets.FashionMNIST('./data', train=False, download=True, transform=transforms.ToTensor()),\n",
    "    batch_size = 64, shuffle=False, )"
   ]
  },
  {
   "cell_type": "code",
   "execution_count": 3,
   "metadata": {},
   "outputs": [],
   "source": [
    "def test_model(mdl, loader, device):\n",
    "    mdl.eval()\n",
    "    running_correct = 0.\n",
    "    running_loss = 0.\n",
    "    running_total = 0.\n",
    "    with torch.no_grad():\n",
    "        for batch_idx,(data,labels) in enumerate(loader):\n",
    "            data = data.to(device); labels = labels.to(device)\n",
    "            clean_outputs = mdl(data)\n",
    "            clean_loss = F.cross_entropy(clean_outputs, labels)\n",
    "            _,clean_preds = clean_outputs.max(1)\n",
    "            running_correct += clean_preds.eq(labels).sum().item()\n",
    "            running_loss += clean_loss.item()\n",
    "            running_total += labels.size(0)\n",
    "    clean_acc = running_correct/running_total\n",
    "    clean_loss = running_loss/len(loader)\n",
    "    mdl.train()\n",
    "    return clean_acc,clean_loss"
   ]
  },
  {
   "cell_type": "markdown",
   "metadata": {},
   "source": [
    "## Model training\n",
    "\n",
    "Train a model and save the checkpoint. This cell is used in Lab-1 and Lab-3"
   ]
  },
  {
   "cell_type": "code",
   "execution_count": 4,
   "metadata": {},
   "outputs": [
    {
     "name": "stdout",
     "output_type": "stream",
     "text": [
      "<class 'torch.Tensor'>\n",
      "torch.Size([64, 1, 28, 28])\n"
     ]
    }
   ],
   "source": [
    "## Pick a model architecture\n",
    "net = models.NetA().to(device)\n",
    "#net = models.NetB().to(device)\n",
    "\n",
    "## Checkpoint name for this model\n",
    "model_checkpoint = \"netA_standard.pt\"\n",
    "#model_checkpoint = \"netB_standard.pt\"\n",
    "\n",
    "## Basic training params\n",
    "num_epochs = 20\n",
    "initial_lr = 0.001\n",
    "lr_decay_epoch = 15\n",
    "\n",
    "optimizer = torch.optim.Adam(net.parameters(), lr=initial_lr)\n",
    "\n",
    "## Training Loop\n",
    "for epoch in range(num_epochs):\n",
    "    net.train()\n",
    "    train_correct = 0.\n",
    "    train_loss = 0.\n",
    "    train_total = 0.\n",
    "    for batch_idx,(data,labels) in enumerate(train_loader):\n",
    "        data = data.to(device); labels = labels.to(device)\n",
    "        \n",
    "        print(type(data))\n",
    "        print(data.shape)\n",
    "        \n",
    "        # Forward pass\n",
    "        outputs = net(data)\n",
    "        net.zero_grad()\n",
    "        optimizer.zero_grad()\n",
    "        # Compute loss, gradients, and update params\n",
    "        loss = F.cross_entropy(outputs, labels)\n",
    "        loss.backward()\n",
    "        optimizer.step()\n",
    "        # Update stats\n",
    "        _,preds = outputs.max(1)\n",
    "        train_correct += preds.eq(labels).sum().item()\n",
    "        train_loss += loss.item()\n",
    "        train_total += labels.size(0)\n",
    "        \n",
    "        break\n",
    "    break\n",
    "        \n",
    "    # End of training epoch\n",
    "    test_acc,test_loss = test_model(net,test_loader,device)\n",
    "    print(\"Epoch: [ {} / {} ]; TrainAcc: {:.5f}; TrainLoss: {:.5f}; TestAcc: {:.5f}; TestLoss: {:.5f}\".format(\n",
    "        epoch, num_epochs, train_correct/train_total, train_loss/len(train_loader),\n",
    "        test_acc, test_loss,\n",
    "    ))\n",
    "    # Save model    \n",
    "    torch.save(net.state_dict(), model_checkpoint)\n",
    "    \n",
    "    # Update LR\n",
    "    if epoch == lr_decay_epoch:\n",
    "        for param_group in optimizer.param_groups:\n",
    "            param_group['lr'] = initial_lr*0.1\n",
    "\n",
    "print(\"Done!\")"
   ]
  },
  {
   "cell_type": "code",
   "execution_count": null,
   "metadata": {},
   "outputs": [],
   "source": [
    "# net = models.NetA().to(device)\n",
    "# net.load_state_dict(torch.load(\"netA_standard.pt\"))\n",
    "# net"
   ]
  },
  {
   "cell_type": "markdown",
   "metadata": {},
   "source": [
    "**Visualize some perturbed samples**"
   ]
  },
  {
   "cell_type": "code",
   "execution_count": 43,
   "metadata": {},
   "outputs": [
    {
     "data": {
      "image/png": "[encoded data removed]",
      "text/plain": [
       "<Figure size 1080x360 with 12 Axes>"
      ]
     },
     "metadata": {
      "needs_background": "light"
     },
     "output_type": "display_data"
    }
   ],
   "source": [
    "classes = [\"t-shirt\", \"trouser\",\"pullover\",\"dress\",\"coat\",\"sandal\",\"shirt\",\"sneaker\",\"bag\",\"boot\"]\n",
    "net = models.NetA().to(device)\n",
    "net.load_state_dict(torch.load(\"netA_standard.pt\"))\n",
    "for data,labels in test_loader:\n",
    "        data = data.to(device); labels = labels.to(device)\n",
    "\n",
    "        ###\n",
    "        # Compute and apply adversarial perturbation to data\n",
    "        #EPS = 0\n",
    "        #EPS = 0.1\n",
    "        #EPS = 0.2\n",
    "        #EPS = 0.3\n",
    "        \n",
    "        #EPS = 0\n",
    "        #EPS = 1.0\n",
    "        #EPS = 2.0\n",
    "        #EPS = 3.0\n",
    "        EPS = 4.0\n",
    "        \n",
    "        ITS = 10\n",
    "        ALP = 1.85*(EPS/ITS)\n",
    "        \n",
    "        #adv_data = attacks.FGSM_attack(net,device,data.clone().detach(),labels,eps=EPS)\n",
    "        #adv_data = attacks.PGD_attack(net,device,data.clone().detach(),labels,eps=EPS,alpha=ALP,iters=ITS,rand_start=True)\n",
    "        adv_data = attacks.FGM_L2_attack(net,device,data.clone().detach(),labels,eps=EPS)\n",
    "        ###\n",
    "        \n",
    "        # Compute preds\n",
    "        with torch.no_grad():\n",
    "            clean_outputs = net(data)\n",
    "            _,clean_preds = clean_outputs.max(1)\n",
    "            clean_preds = clean_preds.cpu().squeeze().numpy()\n",
    "            adv_outputs = net(adv_data)\n",
    "            _,adv_preds = adv_outputs.max(1)\n",
    "            adv_preds = adv_preds.cpu().squeeze().numpy()\n",
    "\n",
    "        # Plot some samples\n",
    "        inds = random.sample(list(range(data.size(0))),6)\n",
    "        plt.figure(figsize=(15,5))\n",
    "        for jj in range(6):\n",
    "            plt.subplot(2,6,jj+1);plt.imshow(data[inds[jj],0].cpu().numpy(),cmap='gray');plt.axis(\"off\");\n",
    "            plt.title(\"clean. pred={}\".format(classes[clean_preds[inds[jj]]]))\n",
    "        for jj in range(6):\n",
    "            plt.subplot(2,6,6+jj+1);plt.imshow(adv_data[inds[jj],0].cpu().numpy(),cmap='gray');plt.axis(\"off\");\n",
    "            plt.title(\"adv. pred={}\".format(classes[adv_preds[inds[jj]]]))\n",
    "        plt.tight_layout()\n",
    "        plt.show()\n",
    "        break"
   ]
  },
  {
   "cell_type": "markdown",
   "metadata": {},
   "source": [
    "## Test Attacks - Whitebox & Blackbox\n",
    "\n",
    "Don't forget to plot accuracy vs. epsilon curves!"
   ]
  },
  {
   "cell_type": "code",
   "execution_count": 24,
   "metadata": {},
   "outputs": [
    {
     "name": "stdout",
     "output_type": "stream",
     "text": [
      "[0.   0.01 0.02 0.03 0.04 0.05 0.06 0.07 0.08 0.09 0.1 ]\n",
      "11\n"
     ]
    }
   ],
   "source": [
    "eps_values = np.linspace(0, 0.1, 11)\n",
    "\n",
    "random_whitebox_acc = []\n",
    "random_blackbox_acc = []\n",
    "\n",
    "fgsm_whitebox_acc = []\n",
    "fgsm_blackbox_acc = []\n",
    "\n",
    "pgd_whitebox_acc = []\n",
    "pgd_blackbox_acc = []\n",
    "\n",
    "print(eps_values)\n",
    "print(len(eps_values))"
   ]
  },
  {
   "cell_type": "code",
   "execution_count": 59,
   "metadata": {},
   "outputs": [
    {
     "name": "stdout",
     "output_type": "stream",
     "text": [
      "Initial Accuracy of Whitebox Model:  0.9251\n",
      "Initial Accuracy of Blackbox Model:  0.9208\n",
      "Attack Epsilon: 0.1; Whitebox Accuracy: 0.005; Blackbox Accuracy: 0.3308\n",
      "Done!\n"
     ]
    }
   ],
   "source": [
    "## Load pretrained models\n",
    "whitebox = models.NetA()\n",
    "blackbox = models.NetB()\n",
    "\n",
    "whitebox.load_state_dict(torch.load(\"netA_standard.pt\"))\n",
    "blackbox.load_state_dict(torch.load(\"netB_standard.pt\"))\n",
    "\n",
    "whitebox = whitebox.to(device); blackbox = blackbox.to(device) \n",
    "whitebox.eval(); blackbox.eval()\n",
    "\n",
    "test_acc,_ = test_model(whitebox,test_loader,device)\n",
    "print(\"Initial Accuracy of Whitebox Model: \",test_acc)\n",
    "test_acc,_ = test_model(blackbox,test_loader,device)\n",
    "print(\"Initial Accuracy of Blackbox Model: \",test_acc)\n",
    "\n",
    "## Test the models against an adversarial attack\n",
    "\n",
    "# TODO: Set attack parameters here\n",
    "#ATK_EPS = eps_values[0]\n",
    "#ATK_EPS = eps_values[1]\n",
    "#ATK_EPS = eps_values[2]\n",
    "#ATK_EPS = eps_values[3]\n",
    "#ATK_EPS = eps_values[4]\n",
    "#ATK_EPS = eps_values[5]\n",
    "#ATK_EPS = eps_values[6]\n",
    "#ATK_EPS = eps_values[7]\n",
    "#ATK_EPS = eps_values[8]\n",
    "#ATK_EPS = eps_values[9]\n",
    "ATK_EPS = eps_values[10]\n",
    "\n",
    "ATK_ITERS = 10\n",
    "ATK_ALPHA = 1.85 * (ATK_EPS / ATK_ITERS)\n",
    "\n",
    "whitebox_correct = 0.\n",
    "blackbox_correct = 0.\n",
    "running_total = 0.\n",
    "for batch_idx,(data,labels) in enumerate(test_loader):\n",
    "    data = data.to(device) \n",
    "    labels = labels.to(device)\n",
    "\n",
    "    # TODO: Perform adversarial attack here\n",
    "    #adv_data = attacks.random_noise_attack(whitebox, device, data.clone().detach(), eps=ATK_EPS)\n",
    "    \n",
    "    #adv_data = attacks.FGSM_attack(whitebox,device,data.clone().detach(),labels,eps=ATK_EPS)\n",
    "    \n",
    "    adv_data = attacks.PGD_attack(whitebox,device,data.clone().detach(),labels,eps=ATK_EPS,\n",
    "    alpha=ATK_ALPHA,iters=ATK_ITERS,rand_start=True)\n",
    "\n",
    "    # Sanity checking if adversarial example is \"legal\"\n",
    "    assert(torch.max(torch.abs(adv_data-data)) <= (ATK_EPS + 1e-5) )\n",
    "    assert(adv_data.max() == 1.)\n",
    "    assert(adv_data.min() == 0.)\n",
    "    \n",
    "    # Compute accuracy on perturbed data\n",
    "    with torch.no_grad():\n",
    "        # Stat keeping - whitebox\n",
    "        whitebox_outputs = whitebox(adv_data)\n",
    "        _,whitebox_preds = whitebox_outputs.max(1)\n",
    "        whitebox_correct += whitebox_preds.eq(labels).sum().item()\n",
    "        # Stat keeping - blackbox\n",
    "        blackbox_outputs = blackbox(adv_data)\n",
    "        _,blackbox_preds = blackbox_outputs.max(1)\n",
    "        blackbox_correct += blackbox_preds.eq(labels).sum().item()\n",
    "        running_total += labels.size(0)\n",
    "    \n",
    "#     # Plot some samples\n",
    "#     if batch_idx == 1:\n",
    "#         plt.figure(figsize=(15,5))\n",
    "#         for jj in range(12):\n",
    "#             plt.subplot(2,6,jj+1);plt.imshow(adv_data[jj,0].cpu().numpy(),cmap='gray');plt.axis(\"off\")\n",
    "#         plt.tight_layout()\n",
    "#         plt.show()\n",
    "\n",
    "# Print final \n",
    "whitebox_acc = whitebox_correct/running_total\n",
    "blackbox_acc = blackbox_correct/running_total\n",
    "\n",
    "# random_whitebox_acc.append(whitebox_acc)\n",
    "# random_blackbox_acc.append(blackbox_acc)\n",
    "\n",
    "# fgsm_whitebox_acc.append(whitebox_acc)\n",
    "# fgsm_blackbox_acc.append(blackbox_acc)\n",
    "\n",
    "pgd_whitebox_acc.append(whitebox_acc)\n",
    "pgd_blackbox_acc.append(blackbox_acc)\n",
    "\n",
    "print(\"Attack Epsilon: {}; Whitebox Accuracy: {}; Blackbox Accuracy: {}\".format(ATK_EPS, whitebox_acc, blackbox_acc))\n",
    "\n",
    "print(\"Done!\")"
   ]
  },
  {
   "cell_type": "code",
   "execution_count": 60,
   "metadata": {},
   "outputs": [
    {
     "name": "stdout",
     "output_type": "stream",
     "text": [
      "11\n",
      "[0.9251, 0.9245, 0.9243, 0.9227, 0.9215, 0.9194, 0.916, 0.9139, 0.9074, 0.9055, 0.8968]\n",
      "11\n",
      "[0.9208, 0.9204, 0.9214, 0.9158, 0.9089, 0.9042, 0.8952, 0.8857, 0.8748, 0.852, 0.8461]\n",
      "11\n",
      "[0.9251, 0.7072, 0.5823, 0.5129, 0.4545, 0.4068, 0.3672, 0.3347, 0.3091, 0.2899, 0.2768]\n",
      "11\n",
      "[0.9208, 0.8757, 0.8214, 0.7651, 0.7016, 0.6481, 0.6031, 0.5668, 0.5369, 0.5077, 0.4815]\n",
      "11\n",
      "[0.9251, 0.6581, 0.4131, 0.265, 0.1675, 0.1032, 0.0624, 0.0345, 0.0175, 0.0095, 0.005]\n",
      "11\n",
      "[0.9208, 0.8729, 0.806, 0.7274, 0.6358, 0.5547, 0.4925, 0.4415, 0.4024, 0.3674, 0.3308]\n"
     ]
    }
   ],
   "source": [
    "print(len(random_whitebox_acc))\n",
    "print(random_whitebox_acc)\n",
    "print(len(random_blackbox_acc))\n",
    "print(random_blackbox_acc)\n",
    "print(len(fgsm_whitebox_acc))\n",
    "print(fgsm_whitebox_acc)\n",
    "print(len(fgsm_blackbox_acc))\n",
    "print(fgsm_blackbox_acc)\n",
    "print(len(pgd_whitebox_acc))\n",
    "print(pgd_whitebox_acc)\n",
    "print(len(pgd_blackbox_acc))\n",
    "print(pgd_blackbox_acc)"
   ]
  },
  {
   "cell_type": "code",
   "execution_count": 61,
   "metadata": {},
   "outputs": [
    {
     "data": {
      "image/png": "[encoded data removed]",
      "text/plain": [
       "<Figure size 432x288 with 1 Axes>"
      ]
     },
     "metadata": {
      "needs_background": "light"
     },
     "output_type": "display_data"
    }
   ],
   "source": [
    "figure, axis = plt.subplots()\n",
    "\n",
    "axis.plot(eps_values, random_whitebox_acc, label = \"Random\")\n",
    "axis.plot(eps_values, fgsm_whitebox_acc, label = \"FGSM\")\n",
    "axis.plot(eps_values, pgd_whitebox_acc, label = \"PGD\")\n",
    "\n",
    "axis.set(xlabel = \"Epsilon\", ylabel = \"Accuracy\", title = \"Whitebox Attacks\")\n",
    "axis.grid()\n",
    "#plt.yscale(\"log\")\n",
    "plt.ylim([0, 1])\n",
    "plt.legend()\n",
    "plt.show()"
   ]
  },
  {
   "cell_type": "code",
   "execution_count": 62,
   "metadata": {},
   "outputs": [
    {
     "data": {
      "image/png": "[encoded data removed]",
      "text/plain": [
       "<Figure size 432x288 with 1 Axes>"
      ]
     },
     "metadata": {
      "needs_background": "light"
     },
     "output_type": "display_data"
    }
   ],
   "source": [
    "figure, axis = plt.subplots()\n",
    "\n",
    "axis.plot(eps_values, random_blackbox_acc, label = \"Random\")\n",
    "axis.plot(eps_values, fgsm_blackbox_acc, label = \"FGSM\")\n",
    "axis.plot(eps_values, pgd_blackbox_acc, label = \"PGD\")\n",
    "\n",
    "axis.set(xlabel = \"Epsilon\", ylabel = \"Accuracy\", title = \"Blackbox Attacks\")\n",
    "axis.grid()\n",
    "#plt.yscale(\"log\")\n",
    "plt.ylim([0, 1])\n",
    "plt.legend()\n",
    "plt.show()"
   ]
  },
  {
   "cell_type": "code",
   "execution_count": null,
   "metadata": {},
   "outputs": [],
   "source": []
  },
  {
   "cell_type": "code",
   "execution_count": null,
   "metadata": {},
   "outputs": [],
   "source": []
  },
  {
   "cell_type": "markdown",
   "metadata": {},
   "source": [
    "## Model Training for Lab 3"
   ]
  },
  {
   "cell_type": "code",
   "execution_count": 14,
   "metadata": {},
   "outputs": [
    {
     "name": "stdout",
     "output_type": "stream",
     "text": [
      "Epoch: [ 0 / 20 ]; TrainAcc: 0.09868; TrainLoss: 2.30338; TestAcc: 0.10000; TestLoss: 2.30282\n",
      "Epoch: [ 1 / 20 ]; TrainAcc: 0.10007; TrainLoss: 2.30290; TestAcc: 0.10000; TestLoss: 2.30265\n",
      "Epoch: [ 2 / 20 ]; TrainAcc: 0.09802; TrainLoss: 2.30288; TestAcc: 0.10000; TestLoss: 2.30281\n",
      "Epoch: [ 3 / 20 ]; TrainAcc: 0.09897; TrainLoss: 2.30285; TestAcc: 0.10000; TestLoss: 2.30266\n",
      "Epoch: [ 4 / 20 ]; TrainAcc: 0.09958; TrainLoss: 2.30285; TestAcc: 0.10000; TestLoss: 2.30275\n",
      "Epoch: [ 5 / 20 ]; TrainAcc: 0.09855; TrainLoss: 2.30291; TestAcc: 0.10000; TestLoss: 2.30270\n",
      "Epoch: [ 6 / 20 ]; TrainAcc: 0.09872; TrainLoss: 2.30284; TestAcc: 0.10000; TestLoss: 2.30262\n",
      "Epoch: [ 7 / 20 ]; TrainAcc: 0.09998; TrainLoss: 2.30286; TestAcc: 0.10000; TestLoss: 2.30263\n",
      "Epoch: [ 8 / 20 ]; TrainAcc: 0.10068; TrainLoss: 2.30280; TestAcc: 0.10000; TestLoss: 2.30291\n",
      "Epoch: [ 9 / 20 ]; TrainAcc: 0.09998; TrainLoss: 2.30285; TestAcc: 0.10000; TestLoss: 2.30307\n",
      "Epoch: [ 10 / 20 ]; TrainAcc: 0.09785; TrainLoss: 2.30286; TestAcc: 0.10000; TestLoss: 2.30263\n",
      "Epoch: [ 11 / 20 ]; TrainAcc: 0.10080; TrainLoss: 2.30280; TestAcc: 0.10000; TestLoss: 2.30293\n",
      "Epoch: [ 12 / 20 ]; TrainAcc: 0.09943; TrainLoss: 2.30289; TestAcc: 0.10000; TestLoss: 2.30275\n",
      "Epoch: [ 13 / 20 ]; TrainAcc: 0.10112; TrainLoss: 2.30288; TestAcc: 0.10000; TestLoss: 2.30273\n",
      "Epoch: [ 14 / 20 ]; TrainAcc: 0.09848; TrainLoss: 2.30287; TestAcc: 0.10000; TestLoss: 2.30268\n",
      "Epoch: [ 15 / 20 ]; TrainAcc: 0.09985; TrainLoss: 2.30283; TestAcc: 0.10000; TestLoss: 2.30272\n",
      "Epoch: [ 16 / 20 ]; TrainAcc: 0.09895; TrainLoss: 2.30268; TestAcc: 0.10000; TestLoss: 2.30260\n",
      "Epoch: [ 17 / 20 ]; TrainAcc: 0.09788; TrainLoss: 2.30264; TestAcc: 0.10000; TestLoss: 2.30259\n",
      "Epoch: [ 18 / 20 ]; TrainAcc: 0.09775; TrainLoss: 2.30263; TestAcc: 0.10000; TestLoss: 2.30259\n",
      "Epoch: [ 19 / 20 ]; TrainAcc: 0.09830; TrainLoss: 2.30262; TestAcc: 0.10000; TestLoss: 2.30259\n",
      "Done!\n"
     ]
    }
   ],
   "source": [
    "## Pick a model architecture\n",
    "net = models.NetA().to(device)\n",
    "#net = models.NetB().to(device)\n",
    "\n",
    "## Checkpoint name for this model\n",
    "#model_checkpoint = \"netA_standard.pt\"\n",
    "#model_checkpoint = \"netB_standard.pt\"\n",
    "\n",
    "#model_checkpoint = \"netA_advtrain_fgsm0p1.pt\"\n",
    "#model_checkpoint = \"netA_advtrain_pgd0p1.pt\"\n",
    "\n",
    "# ATK_EPS = 0.1\n",
    "\n",
    "#model_checkpoint = \"netA_advtrain_pgd0p01.pt\"\n",
    "#model_checkpoint = \"netA_advtrain_pgd0p05.pt\"\n",
    "#model_checkpoint = \"netA_advtrain_pgd0p15.pt\"\n",
    "#model_checkpoint = \"netA_advtrain_pgd0p2.pt\"\n",
    "#model_checkpoint = \"netA_advtrain_pgd0p3.pt\"\n",
    "model_checkpoint = \"netA_advtrain_pgd0p5.pt\"\n",
    "\n",
    "#ATK_EPS = 0.01\n",
    "#ATK_EPS = 0.05\n",
    "#ATK_EPS = 0.15\n",
    "#ATK_EPS = 0.2\n",
    "#ATK_EPS = 0.3\n",
    "ATK_EPS = 0.5\n",
    "\n",
    "\n",
    "## Basic training params\n",
    "num_epochs = 20\n",
    "initial_lr = 0.001\n",
    "lr_decay_epoch = 15\n",
    "\n",
    "optimizer = torch.optim.Adam(net.parameters(), lr=initial_lr)\n",
    "\n",
    "## Training Loop\n",
    "for epoch in range(num_epochs):\n",
    "    net.train()\n",
    "    train_correct = 0.\n",
    "    train_loss = 0.\n",
    "    train_total = 0.\n",
    "    for batch_idx,(data,labels) in enumerate(train_loader):\n",
    "        data = data.to(device); labels = labels.to(device)\n",
    "        \n",
    "        ###########################################################################################\n",
    "        # Adversarial Training\n",
    "        #adv_data = attacks.FGSM_attack(net,device,data.clone().detach(),labels,eps = 0.1)\n",
    "        \n",
    "        adv_data = attacks.PGD_attack(net,device,data.clone().detach(),labels,eps = ATK_EPS,\n",
    "                                      alpha = 1.85 * (ATK_EPS / 4),iters = 4,rand_start=True)\n",
    "        ###########################################################################################\n",
    "        \n",
    "        # Forward pass\n",
    "        #################################\n",
    "        # Adversarial Training\n",
    "        outputs = net(adv_data)\n",
    "        #outputs = net(data)\n",
    "        #################################\n",
    "        \n",
    "        net.zero_grad()\n",
    "        optimizer.zero_grad()\n",
    "        # Compute loss, gradients, and update params\n",
    "        loss = F.cross_entropy(outputs, labels)\n",
    "        loss.backward()\n",
    "        optimizer.step()\n",
    "        # Update stats\n",
    "        _,preds = outputs.max(1)\n",
    "        train_correct += preds.eq(labels).sum().item()\n",
    "        train_loss += loss.item()\n",
    "        train_total += labels.size(0)\n",
    "        \n",
    "    # End of training epoch\n",
    "    test_acc,test_loss = test_model(net,test_loader,device)\n",
    "    print(\"Epoch: [ {} / {} ]; TrainAcc: {:.5f}; TrainLoss: {:.5f}; TestAcc: {:.5f}; TestLoss: {:.5f}\".format(\n",
    "        epoch, num_epochs, train_correct/train_total, train_loss/len(train_loader),\n",
    "        test_acc, test_loss,\n",
    "    ))\n",
    "    # Save model    \n",
    "    torch.save(net.state_dict(), model_checkpoint)\n",
    "    \n",
    "    # Update LR\n",
    "    if epoch == lr_decay_epoch:\n",
    "        for param_group in optimizer.param_groups:\n",
    "            param_group['lr'] = initial_lr*0.1\n",
    "\n",
    "print(\"Done!\")"
   ]
  },
  {
   "cell_type": "code",
   "execution_count": 15,
   "metadata": {},
   "outputs": [
    {
     "name": "stdout",
     "output_type": "stream",
     "text": [
      "Test Accuracy on Clean Data of PGD_NETA:  0.1\n"
     ]
    }
   ],
   "source": [
    "## Load pretrained models\n",
    "fgsm_net = models.NetA()\n",
    "pgd_net = models.NetA()\n",
    "\n",
    "fgsm_net.load_state_dict(torch.load(\"netA_advtrain_fgsm0p1.pt\"))\n",
    "\n",
    "#pgd_net.load_state_dict(torch.load(\"netA_advtrain_pgd0p1.pt\"))\n",
    "\n",
    "#pgd_net.load_state_dict(torch.load(\"netA_advtrain_pgd0p01.pt\"))\n",
    "#pgd_net.load_state_dict(torch.load(\"netA_advtrain_pgd0p05.pt\"))\n",
    "#pgd_net.load_state_dict(torch.load(\"netA_advtrain_pgd0p15.pt\"))\n",
    "#pgd_net.load_state_dict(torch.load(\"netA_advtrain_pgd0p2.pt\"))\n",
    "#pgd_net.load_state_dict(torch.load(\"netA_advtrain_pgd0p3.pt\"))\n",
    "pgd_net.load_state_dict(torch.load(\"netA_advtrain_pgd0p5.pt\"))\n",
    "\n",
    "fgsm_net = fgsm_net.to(device); pgd_net = pgd_net.to(device) \n",
    "fgsm_net.eval(); pgd_net.eval()\n",
    "\n",
    "# test_acc,_ = test_model(fgsm_net,test_loader,device)\n",
    "# print(\"Test Accuracy on Clean Data of FGSM_NETA: \",test_acc)\n",
    "test_acc,_ = test_model(pgd_net,test_loader,device)\n",
    "print(\"Test Accuracy on Clean Data of PGD_NETA: \",test_acc)"
   ]
  },
  {
   "cell_type": "markdown",
   "metadata": {},
   "source": [
    "## Test Robust Models for Lab 3"
   ]
  },
  {
   "cell_type": "code",
   "execution_count": 16,
   "metadata": {},
   "outputs": [
    {
     "name": "stdout",
     "output_type": "stream",
     "text": [
      "[0.   0.02 0.04 0.06 0.08 0.1  0.12 0.14 0.16 0.18 0.2  0.22 0.24]\n",
      "13\n"
     ]
    }
   ],
   "source": [
    "#eps_values = np.array([0.0, 0.02, 0.04, 0.06, 0.08, 0.10, 0.12])\n",
    "\n",
    "eps_values = np.array([0.0, 0.02, 0.04, 0.06, 0.08, 0.10, 0.12, 0.14, 0.16, 0.18, 0.20, 0.22, 0.24])\n",
    "\n",
    "fgsm_fgsm_acc = []\n",
    "fgsm_pgd_acc = []\n",
    "pgd_fgsm_acc = []\n",
    "pgd_pgd_acc = []\n",
    "\n",
    "pgd_0p1_acc = []\n",
    "pgd_0p15_acc = []\n",
    "pgd_0p2_acc = []\n",
    "\n",
    "print(eps_values)\n",
    "print(len(eps_values))"
   ]
  },
  {
   "cell_type": "code",
   "execution_count": 57,
   "metadata": {},
   "outputs": [
    {
     "name": "stdout",
     "output_type": "stream",
     "text": [
      "Initial Accuracy of Whitebox Model:  0.84\n",
      "Attack Epsilon: 0.24; Whitebox Accuracy: 0.0701\n",
      "Done!\n"
     ]
    }
   ],
   "source": [
    "whitebox = models.NetA()\n",
    "#whitebox.load_state_dict(torch.load(\"netA_advtrain_fgsm0p1.pt\")) # TODO: Load your robust models\n",
    "\n",
    "#whitebox.load_state_dict(torch.load(\"netA_advtrain_pgd0p1.pt\"))\n",
    "#whitebox.load_state_dict(torch.load(\"netA_advtrain_pgd0p15.pt\"))\n",
    "whitebox.load_state_dict(torch.load(\"netA_advtrain_pgd0p2.pt\"))\n",
    "\n",
    "whitebox = whitebox.to(device)\n",
    "whitebox.eval(); \n",
    "\n",
    "test_acc,_ = test_model(whitebox,test_loader,device)\n",
    "print(\"Initial Accuracy of Whitebox Model: \",test_acc)\n",
    "\n",
    "## Test the model against an adversarial attack\n",
    "\n",
    "# TODO: Set attack parameters here\n",
    "#ATK_EPS = eps_values[0]\n",
    "#ATK_EPS = eps_values[1]\n",
    "#ATK_EPS = eps_values[2]\n",
    "#ATK_EPS = eps_values[3]\n",
    "#ATK_EPS = eps_values[4]\n",
    "#ATK_EPS = eps_values[5]\n",
    "#ATK_EPS = eps_values[6]\n",
    "#ATK_EPS = eps_values[7]\n",
    "#ATK_EPS = eps_values[8]\n",
    "#ATK_EPS = eps_values[9]\n",
    "#ATK_EPS = eps_values[10]\n",
    "#ATK_EPS = eps_values[11]\n",
    "ATK_EPS = eps_values[12]\n",
    "\n",
    "\n",
    "ATK_ITERS = 10\n",
    "ATK_ALPHA = 1.85 * (ATK_EPS / ATK_ITERS)\n",
    "\n",
    "whitebox_correct = 0.\n",
    "running_total = 0.\n",
    "for batch_idx,(data,labels) in enumerate(test_loader):\n",
    "    data = data.to(device) \n",
    "    labels = labels.to(device)\n",
    "\n",
    "    # TODO: Perform adversarial attack here\n",
    "    #adv_data = attacks.FGSM_attack(whitebox,device,data.clone().detach(),labels,eps=ATK_EPS)\n",
    "    \n",
    "    adv_data = attacks.PGD_attack(whitebox,device,data.clone().detach(),labels,eps=ATK_EPS,\n",
    "    alpha=ATK_ALPHA,iters=ATK_ITERS,rand_start=True)\n",
    "    \n",
    "    # Sanity checking if adversarial example is \"legal\"\n",
    "    assert(torch.max(torch.abs(adv_data-data)) <= (ATK_EPS + 1e-5) )\n",
    "    assert(adv_data.max() == 1.)\n",
    "    assert(adv_data.min() == 0.)\n",
    "    \n",
    "    # Compute accuracy on perturbed data\n",
    "    with torch.no_grad():\n",
    "        whitebox_outputs = whitebox(adv_data)\n",
    "        _,whitebox_preds = whitebox_outputs.max(1)\n",
    "        whitebox_correct += whitebox_preds.eq(labels).sum().item()\n",
    "        running_total += labels.size(0)\n",
    "    \n",
    "#     # Plot some samples\n",
    "#     if batch_idx == 1:\n",
    "#         plt.figure(figsize=(15,5))\n",
    "#         for jj in range(12):\n",
    "#             plt.subplot(2,6,jj+1);plt.imshow(adv_data[jj,0].cpu().numpy(),cmap='gray');plt.axis(\"off\")\n",
    "#         plt.tight_layout()\n",
    "#         plt.show()\n",
    "\n",
    "# Print final \n",
    "whitebox_acc = whitebox_correct/running_total\n",
    "\n",
    "#####################################################\n",
    "#fgsm_fgsm_acc.append(whitebox_acc)\n",
    "#fgsm_pgd_acc.append(whitebox_acc)\n",
    "\n",
    "#pgd_fgsm_acc.append(whitebox_acc)\n",
    "#pgd_pgd_acc.append(whitebox_acc)\n",
    "\n",
    "#pgd_0p1_acc.append(whitebox_acc)\n",
    "#pgd_0p15_acc.append(whitebox_acc)\n",
    "pgd_0p2_acc.append(whitebox_acc)\n",
    "#####################################################\n",
    "\n",
    "print(\"Attack Epsilon: {}; Whitebox Accuracy: {}\".format(ATK_EPS, whitebox_acc))\n",
    "\n",
    "print(\"Done!\")"
   ]
  },
  {
   "cell_type": "code",
   "execution_count": 58,
   "metadata": {},
   "outputs": [
    {
     "name": "stdout",
     "output_type": "stream",
     "text": [
      "13\n",
      "13\n",
      "13\n",
      "[0.8698, 0.8537, 0.8378, 0.8193, 0.8028, 0.7836, 0.6685, 0.2851, 0.1102, 0.0519, 0.0171, 0.0087, 0.0047]\n",
      "[0.8519, 0.8356, 0.823, 0.8104, 0.8004, 0.7921, 0.7834, 0.7733, 0.7565, 0.1851, 0.0796, 0.0489, 0.0517]\n",
      "[0.84, 0.819, 0.8049, 0.7965, 0.7871, 0.7807, 0.77, 0.7623, 0.7577, 0.752, 0.7432, 0.6756, 0.0701]\n"
     ]
    }
   ],
   "source": [
    "# print(len(fgsm_fgsm_acc))\n",
    "# print(len(fgsm_pgd_acc))\n",
    "# print(len(pgd_fgsm_acc))\n",
    "# print(len(pgd_pgd_acc))\n",
    "# print(fgsm_fgsm_acc)\n",
    "# print(fgsm_pgd_acc)\n",
    "# print(pgd_fgsm_acc)\n",
    "# print(pgd_pgd_acc)\n",
    "\n",
    "print(len(pgd_0p1_acc))\n",
    "print(len(pgd_0p15_acc))\n",
    "print(len(pgd_0p2_acc))\n",
    "print(pgd_0p1_acc)\n",
    "print(pgd_0p15_acc)\n",
    "print(pgd_0p2_acc)"
   ]
  },
  {
   "cell_type": "code",
   "execution_count": 59,
   "metadata": {},
   "outputs": [
    {
     "data": {
      "image/png": "[encoded data removed]",
      "text/plain": [
       "<Figure size 432x288 with 1 Axes>"
      ]
     },
     "metadata": {
      "needs_background": "light"
     },
     "output_type": "display_data"
    }
   ],
   "source": [
    "figure, axis = plt.subplots()\n",
    "\n",
    "#axis.plot(eps_values, fgsm_fgsm_acc, label = \"FGSM\")\n",
    "#axis.plot(eps_values, fgsm_pgd_acc, label = \"PGD\")\n",
    "\n",
    "axis.plot(eps_values, pgd_0p1_acc, label = \"eps = 0.1\")\n",
    "axis.plot(eps_values, pgd_0p15_acc, label = \"eps = 0.15\")\n",
    "axis.plot(eps_values, pgd_0p2_acc, label = \"eps = 0.2\")\n",
    "\n",
    "#axis.set(xlabel = \"Epsilon\", ylabel = \"Accuracy\", title = \"FGSM ADVTRAIN NETA\")\n",
    "\n",
    "axis.set(xlabel = \"Attack Epsilon\", ylabel = \"Accuracy\", title = \"PGD-based AT + PGD Attack\")\n",
    "\n",
    "axis.grid()\n",
    "#plt.yscale(\"log\")\n",
    "plt.ylim([0, 1])\n",
    "plt.legend()\n",
    "plt.show()"
   ]
  },
  {
   "cell_type": "code",
   "execution_count": 97,
   "metadata": {},
   "outputs": [
    {
     "data": {
      "image/png": "[encoded data removed]",
      "text/plain": [
       "<Figure size 432x288 with 1 Axes>"
      ]
     },
     "metadata": {
      "needs_background": "light"
     },
     "output_type": "display_data"
    }
   ],
   "source": [
    "figure, axis = plt.subplots()\n",
    "\n",
    "axis.plot(eps_values, pgd_fgsm_acc, label = \"FGSM\")\n",
    "axis.plot(eps_values, pgd_pgd_acc, label = \"PGD\")\n",
    "\n",
    "axis.set(xlabel = \"Epsilon\", ylabel = \"Accuracy\", title = \"PGD ADVTRAIN NETA\")\n",
    "axis.grid()\n",
    "#plt.yscale(\"log\")\n",
    "plt.ylim([0, 1])\n",
    "plt.legend()\n",
    "plt.show()"
   ]
  },
  {
   "cell_type": "markdown",
   "metadata": {},
   "source": [
    "## Lab 3 Bonus Part (f) - Saliency Maps"
   ]
  },
  {
   "cell_type": "code",
   "execution_count": 9,
   "metadata": {},
   "outputs": [
    {
     "data": {
      "image/png": "[encoded data removed]",
      "text/plain": [
       "<Figure size 1080x360 with 12 Axes>"
      ]
     },
     "metadata": {
      "needs_background": "light"
     },
     "output_type": "display_data"
    },
    {
     "name": "stdout",
     "output_type": "stream",
     "text": [
      "Done!\n"
     ]
    }
   ],
   "source": [
    "classes = [\"t-shirt\", \"trouser\",\"pullover\",\"dress\",\"coat\",\"sandal\",\"shirt\",\"sneaker\",\"bag\",\"boot\"]\n",
    "\n",
    "whitebox = models.NetA()\n",
    "\n",
    "#whitebox.load_state_dict(torch.load(\"netA_standard.pt\"))   # TODO: Load your robust models\n",
    "#whitebox.load_state_dict(torch.load(\"netA_advtrain_pgd0p01.pt\"))\n",
    "#whitebox.load_state_dict(torch.load(\"netA_advtrain_pgd0p05.pt\"))\n",
    "#whitebox.load_state_dict(torch.load(\"netA_advtrain_pgd0p1.pt\"))\n",
    "#whitebox.load_state_dict(torch.load(\"netA_advtrain_pgd0p15.pt\"))\n",
    "whitebox.load_state_dict(torch.load(\"netA_advtrain_pgd0p2.pt\"))\n",
    "#whitebox.load_state_dict(torch.load(\"netA_advtrain_pgd0p3.pt\"))\n",
    "\n",
    "whitebox = whitebox.to(device)\n",
    "whitebox.eval(); \n",
    "\n",
    "# test_acc,_ = test_model(whitebox,test_loader,device)\n",
    "# print(\"Initial Accuracy of Whitebox Model: \",test_acc)\n",
    "\n",
    "# ## Test the model against an adversarial attack\n",
    "\n",
    "# # TODO: Set attack parameters here\n",
    "# ATK_EPS = 0.1\n",
    "# ATK_ITERS = 10\n",
    "# ATK_ALPHA = 1.85 * (ATK_EPS / ATK_ITERS)\n",
    "\n",
    "# whitebox_correct = 0.\n",
    "# running_total = 0.\n",
    "\n",
    "for batch_idx,(data,labels) in enumerate(test_loader):\n",
    "    data = data.to(device) \n",
    "    labels = labels.to(device)\n",
    "    \n",
    "    # Reduce the batch size from 64 to 6\n",
    "    # to facilitate plotting saliency maps.\n",
    "    data = data[0:6]\n",
    "    labels = labels[0:6]\n",
    "    #print(data.shape)\n",
    "    #print(labels.shape)\n",
    "    \n",
    "    data.requires_grad_()\n",
    "    saliency_map = None\n",
    "    results = whitebox.forward(data)\n",
    "    results = results.gather(1, labels.view(-1, 1)).squeeze()\n",
    "    results.backward(torch.FloatTensor([1., 1., 1., 1., 1., 1.]).to(device))\n",
    "    saliency_map = abs(data.grad.data)\n",
    "    saliency_map, _ = torch.max(saliency_map, dim = 1)\n",
    "    saliency_map = saliency_map.squeeze()\n",
    "    saliency_map = saliency_map.cpu().numpy()\n",
    "    batch_size_six = data.shape[0]\n",
    "    if batch_idx == 5 :\n",
    "        plt.figure(figsize = (15, 5))\n",
    "        for i in range(batch_size_six) :\n",
    "            plt.subplot(2, batch_size_six, i + 1)\n",
    "            plt.imshow(data[i,0].cpu().detach().numpy(), cmap = 'gray')\n",
    "            plt.axis('off')\n",
    "            plt.title(classes[labels[i]])\n",
    "            plt.subplot(2, batch_size_six, batch_size_six + i + 1)\n",
    "            plt.imshow(saliency_map[i], cmap = plt.cm.hot)\n",
    "            plt.axis('off')\n",
    "        plt.tight_layout()\n",
    "        plt.show()\n",
    "        \n",
    "\n",
    "#     # TODO: Perform adversarial attack here\n",
    "#     adv_data = attacks.PGD_attack(whitebox, device, data.clone().detach(), labels, eps = ATK_EPS, \n",
    "#                                   alpha = ATK_ALPHA, iters = ATK_ITERS, rand_start = True)\n",
    "    \n",
    "#     # Sanity checking if adversarial example is \"legal\"\n",
    "#     assert(torch.max(torch.abs(adv_data-data)) <= (ATK_EPS + 1e-5) )\n",
    "#     assert(adv_data.max() == 1.)\n",
    "#     assert(adv_data.min() == 0.)\n",
    "    \n",
    "#     # Compute accuracy on perturbed data\n",
    "#     with torch.no_grad():\n",
    "#         whitebox_outputs = whitebox(adv_data)\n",
    "#         _,whitebox_preds = whitebox_outputs.max(1)\n",
    "#         whitebox_correct += whitebox_preds.eq(labels).sum().item()\n",
    "#         running_total += labels.size(0)\n",
    "    \n",
    "#     # Plot some samples\n",
    "#     if batch_idx == 1:\n",
    "#         plt.figure(figsize=(15,5))\n",
    "#         for jj in range(12):\n",
    "#             plt.subplot(2,6,jj+1);plt.imshow(adv_data[jj,0].cpu().numpy(),cmap='gray');plt.axis(\"off\")\n",
    "#         plt.tight_layout()\n",
    "#         plt.show()\n",
    "\n",
    "# # Print final \n",
    "# whitebox_acc = whitebox_correct/running_total\n",
    "# print(\"Attack Epsilon: {}; Whitebox Accuracy: {}\".format(ATK_EPS, whitebox_acc))\n",
    "\n",
    "print(\"Done!\")"
   ]
  },
  {
   "cell_type": "code",
   "execution_count": null,
   "metadata": {},
   "outputs": [],
   "source": []
  },
  {
   "cell_type": "code",
   "execution_count": null,
   "metadata": {},
   "outputs": [],
   "source": []
  },
  {
   "cell_type": "code",
   "execution_count": null,
   "metadata": {},
   "outputs": [],
   "source": []
  }
 ],
 "metadata": {
  "kernelspec": {
   "display_name": "Python 3 (ipykernel)",
   "language": "python",
   "name": "python3"
  },
  "language_info": {
   "codemirror_mode": {
    "name": "ipython",
    "version": 3
   },
   "file_extension": ".py",
   "mimetype": "text/x-python",
   "name": "python",
   "nbconvert_exporter": "python",
   "pygments_lexer": "ipython3",
   "version": "3.9.7"
  }
 },
 "nbformat": 4,
 "nbformat_minor": 4
}
