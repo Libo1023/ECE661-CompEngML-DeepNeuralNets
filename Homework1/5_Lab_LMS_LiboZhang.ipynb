{
 "cells": [
  {
   "cell_type": "code",
   "execution_count": 1,
   "id": "0c6a9e2c",
   "metadata": {},
   "outputs": [],
   "source": [
    "import numpy as np\n",
    "import scipy.io"
   ]
  },
  {
   "cell_type": "code",
   "execution_count": 2,
   "id": "6af23fe1",
   "metadata": {},
   "outputs": [],
   "source": [
    "dataset = scipy.io.loadmat(file_name = \"ECE661_Fall21_dataset.mat\")"
   ]
  },
  {
   "cell_type": "code",
   "execution_count": 3,
   "id": "c1e599b2",
   "metadata": {},
   "outputs": [
    {
     "data": {
      "text/plain": [
       "dict"
      ]
     },
     "execution_count": 3,
     "metadata": {},
     "output_type": "execute_result"
    }
   ],
   "source": [
    "type(dataset)"
   ]
  },
  {
   "cell_type": "code",
   "execution_count": 4,
   "id": "1a65c3cb",
   "metadata": {},
   "outputs": [
    {
     "data": {
      "text/plain": [
       "{'__header__': b'MATLAB 5.0 MAT-file, Platform: GLNXA64, Created on: Sat Aug 28 21:46:39 2021',\n",
       " '__version__': '1.0',\n",
       " '__globals__': [],\n",
       " 'D': array([[ 1.10291617e+01],\n",
       "        [ 8.70982046e+00],\n",
       "        [ 5.04958679e+00],\n",
       "        [ 5.50947236e+00],\n",
       "        [-1.43807993e+00],\n",
       "        [-7.34707791e-01],\n",
       "        [ 2.26485691e+00],\n",
       "        [ 5.13599021e+00],\n",
       "        [-8.36686932e-01],\n",
       "        [ 3.63455668e+00],\n",
       "        [ 1.20182278e+00],\n",
       "        [-3.29293459e+00],\n",
       "        [ 3.71126778e+00],\n",
       "        [ 5.86339521e+00],\n",
       "        [ 3.67299462e+00],\n",
       "        [ 2.67159510e+00],\n",
       "        [-3.76190772e-01],\n",
       "        [ 7.38059290e+00],\n",
       "        [-2.71244490e-01],\n",
       "        [ 3.66744003e+00],\n",
       "        [-5.21334958e-01],\n",
       "        [-3.71716750e+00],\n",
       "        [ 2.12752522e+00],\n",
       "        [ 3.04137322e+00],\n",
       "        [ 4.55543883e-01],\n",
       "        [ 3.79315269e+00],\n",
       "        [-2.25987356e+00],\n",
       "        [-4.14344485e+00],\n",
       "        [-3.29192681e+00],\n",
       "        [ 7.74457650e+00],\n",
       "        [-1.13473702e+01],\n",
       "        [ 8.29134367e-01],\n",
       "        [-8.02400477e-01],\n",
       "        [ 6.06542768e-02],\n",
       "        [ 2.54674975e+00],\n",
       "        [ 4.42835333e+00],\n",
       "        [ 2.05308549e+00],\n",
       "        [-1.06053438e+00],\n",
       "        [-2.62024569e+00],\n",
       "        [ 3.09698182e+00],\n",
       "        [ 4.90730461e+00],\n",
       "        [-9.23384550e-01],\n",
       "        [ 3.93245589e+00],\n",
       "        [-7.13581246e-01],\n",
       "        [-1.85434295e+00],\n",
       "        [ 1.24770645e+00],\n",
       "        [-8.96532162e-01],\n",
       "        [-3.20585242e-01],\n",
       "        [ 7.43203809e+00],\n",
       "        [ 2.13258665e-01],\n",
       "        [ 2.62655755e-01],\n",
       "        [ 1.25664404e+00],\n",
       "        [-3.51302162e+00],\n",
       "        [ 7.96990577e-02],\n",
       "        [-3.77298099e+00],\n",
       "        [-5.51737879e+00],\n",
       "        [ 2.24504045e+00],\n",
       "        [-3.98948424e+00],\n",
       "        [ 1.03051014e+01],\n",
       "        [ 5.95902980e-01],\n",
       "        [ 5.71905780e-01],\n",
       "        [-1.32295425e+00],\n",
       "        [-5.46691842e+00],\n",
       "        [-1.33489646e+00],\n",
       "        [ 1.82990412e+00],\n",
       "        [-1.14297344e+00],\n",
       "        [ 2.68561365e+00],\n",
       "        [ 7.62121313e-01],\n",
       "        [ 2.96477081e+00],\n",
       "        [-1.34292324e-01],\n",
       "        [ 4.89300627e+00],\n",
       "        [-1.89509198e+00],\n",
       "        [ 2.28359515e+00],\n",
       "        [ 1.10790476e-02],\n",
       "        [-1.79800274e+00],\n",
       "        [-3.63476278e+00],\n",
       "        [ 1.30177223e+00],\n",
       "        [ 3.02404861e+00],\n",
       "        [ 2.35679413e+00],\n",
       "        [-5.40974639e+00],\n",
       "        [-3.76046533e+00],\n",
       "        [ 5.79099816e+00],\n",
       "        [-4.12017202e-01],\n",
       "        [-3.51278018e+00],\n",
       "        [ 4.02456137e+00],\n",
       "        [ 1.50163129e+00],\n",
       "        [ 1.43010053e+00],\n",
       "        [ 3.36535361e+00],\n",
       "        [ 1.72951212e-01],\n",
       "        [-2.18057552e+00],\n",
       "        [ 4.29881212e+00],\n",
       "        [ 2.02837335e-01],\n",
       "        [ 5.34769985e+00],\n",
       "        [ 1.78183365e+00],\n",
       "        [-7.55080784e+00],\n",
       "        [ 3.11487564e+00],\n",
       "        [-3.88657415e+00],\n",
       "        [-3.71643124e+00],\n",
       "        [-7.53100288e+00],\n",
       "        [-1.73140629e+00]]),\n",
       " 'X': array([[ 1.        , -1.30663171,  2.47541277],\n",
       "        [ 1.        , -1.08403497,  1.85430584],\n",
       "        [ 1.        , -1.05766874,  0.64722684],\n",
       "        [ 1.        , -0.88472872,  0.91864768],\n",
       "        [ 1.        ,  0.09446654, -0.75390928],\n",
       "        [ 1.        ,  0.85390129, -0.01437152],\n",
       "        [ 1.        ,  0.95809833,  1.05522676],\n",
       "        [ 1.        ,  0.64244135,  1.80835905],\n",
       "        [ 1.        ,  1.18047232,  0.1737987 ],\n",
       "        [ 1.        ,  0.27187001,  1.06850782],\n",
       "        [ 1.        ,  0.48031245,  0.3916772 ],\n",
       "        [ 1.        ,  0.12821948, -1.3480289 ],\n",
       "        [ 1.        ,  1.15843475,  1.67563663],\n",
       "        [ 1.        , -2.88750105, -0.30587786],\n",
       "        [ 1.        ,  1.50443211,  1.89177189],\n",
       "        [ 1.        , -0.90352028, -0.04680916],\n",
       "        [ 1.        , -1.16559306, -1.23313073],\n",
       "        [ 1.        , -1.52745959,  1.11204986],\n",
       "        [ 1.        , -1.21348173, -1.23641235],\n",
       "        [ 1.        ,  0.04757813,  0.92202091],\n",
       "        [ 1.        , -0.29560123, -0.69786813],\n",
       "        [ 1.        ,  1.1393658 , -0.81557745],\n",
       "        [ 1.        , -0.38859952,  0.1122046 ],\n",
       "        [ 1.        ,  1.38170092,  1.60567168],\n",
       "        [ 1.        ,  1.37360013,  0.73814809],\n",
       "        [ 1.        ,  0.13760749,  1.02367334],\n",
       "        [ 1.        ,  1.30642175, -0.21457683],\n",
       "        [ 1.        ,  0.9335264 , -1.0893152 ],\n",
       "        [ 1.        ,  0.92313616, -0.8104744 ],\n",
       "        [ 1.        , -2.64329688,  0.4864652 ],\n",
       "        [ 1.        ,  3.61837816, -1.6950206 ],\n",
       "        [ 1.        ,  0.07638646, -0.01084795],\n",
       "        [ 1.        , -0.85399722, -1.17387906],\n",
       "        [ 1.        ,  1.02097824,  0.37037627],\n",
       "        [ 1.        , -0.59644761,  0.12124574],\n",
       "        [ 1.        , -1.51284643,  0.13459936],\n",
       "        [ 1.        ,  0.63417395,  0.7711294 ],\n",
       "        [ 1.        ,  3.14619026,  1.40808176],\n",
       "        [ 1.        ,  0.16690442, -1.09109946],\n",
       "        [ 1.        , -0.21380083,  0.55066441],\n",
       "        [ 1.        , -0.65735317,  0.86211551],\n",
       "        [ 1.        ,  0.22595627, -0.48886584],\n",
       "        [ 1.        ,  1.31487338,  1.85892156],\n",
       "        [ 1.        ,  0.95320087,  0.07518391],\n",
       "        [ 1.        ,  1.7502898 ,  0.21679537],\n",
       "        [ 1.        , -0.92576643, -0.54180919],\n",
       "        [ 1.        ,  0.38932321, -0.36797501],\n",
       "        [ 1.        , -0.20223034, -0.57349168],\n",
       "        [ 1.        , -0.51662677,  1.79861402],\n",
       "        [ 1.        , -1.63943615, -1.35618832],\n",
       "        [ 1.        ,  0.9624357 ,  0.39756395],\n",
       "        [ 1.        ,  0.17608545,  0.20455719],\n",
       "        [ 1.        , -0.98772311, -2.16039168],\n",
       "        [ 1.        ,  0.73802331,  0.18563422],\n",
       "        [ 1.        ,  0.61499955, -1.18322311],\n",
       "        [ 1.        , -0.33897724, -2.39978289],\n",
       "        [ 1.        ,  0.79747805,  0.95185967],\n",
       "        [ 1.        ,  0.01131835, -1.65796349],\n",
       "        [ 1.        , -2.09612262,  1.70811253],\n",
       "        [ 1.        , -0.18806179, -0.26236349],\n",
       "        [ 1.        , -0.13670683, -0.23090841],\n",
       "        [ 1.        , -0.69687954, -1.23581974],\n",
       "        [ 1.        ,  1.44575157, -1.19105608],\n",
       "        [ 1.        ,  0.9194226 , -0.16979402],\n",
       "        [ 1.        ,  0.08430734,  0.32909961],\n",
       "        [ 1.        , -0.01893398, -0.72589832],\n",
       "        [ 1.        , -0.06602534,  0.52112434],\n",
       "        [ 1.        , -0.44088745, -0.37341215],\n",
       "        [ 1.        ,  0.30549454,  0.86054713],\n",
       "        [ 1.        ,  0.48785064, -0.04663362],\n",
       "        [ 1.        , -0.55250972,  0.92851385],\n",
       "        [ 1.        ,  0.15386043, -0.8628723 ],\n",
       "        [ 1.        , -2.11529549, -0.9805995 ],\n",
       "        [ 1.        ,  0.36080883, -0.09025886],\n",
       "        [ 1.        ,  2.64932574,  0.82761621],\n",
       "        [ 1.        ,  0.08862215, -1.49035523],\n",
       "        [ 1.        ,  0.6100884 ,  0.50984039],\n",
       "        [ 1.        , -2.30850048, -0.86251155],\n",
       "        [ 1.        , -0.17665952,  0.33719576],\n",
       "        [ 1.        ,  1.650298  , -1.03564688],\n",
       "        [ 1.        ,  1.04848791, -0.88843023],\n",
       "        [ 1.        , -0.0877783 ,  1.53780353],\n",
       "        [ 1.        ,  2.77704861,  1.38547942],\n",
       "        [ 1.        , -0.39084671, -1.7682337 ],\n",
       "        [ 1.        , -0.80836231,  0.46746556],\n",
       "        [ 1.        ,  0.52078129,  0.51794999],\n",
       "        [ 1.        ,  0.93374424,  0.76088362],\n",
       "        [ 1.        , -1.09059183,  0.06740196],\n",
       "        [ 1.        , -0.5599398 , -0.65060499],\n",
       "        [ 1.        ,  0.09676142, -0.98791954],\n",
       "        [ 1.        ,  0.32319451,  1.3180897 ],\n",
       "        [ 1.        , -0.88904109, -0.8564862 ],\n",
       "        [ 1.        , -2.14491757,  0.02621366],\n",
       "        [ 1.        ,  0.09693987,  0.32643989],\n",
       "        [ 1.        ,  0.57153036, -2.47300082],\n",
       "        [ 1.        , -0.37360632,  0.45249836],\n",
       "        [ 1.        ,  2.40126482, -0.02853025],\n",
       "        [ 1.        ,  1.69091718, -0.44616209],\n",
       "        [ 1.        ,  1.22731843, -2.01892188],\n",
       "        [ 1.        , -0.57168677, -1.29202999]])}"
      ]
     },
     "execution_count": 4,
     "metadata": {},
     "output_type": "execute_result"
    }
   ],
   "source": [
    "dataset"
   ]
  },
  {
   "cell_type": "code",
   "execution_count": 5,
   "id": "9bb50238",
   "metadata": {},
   "outputs": [],
   "source": [
    "target_D = dataset['D']\n",
    "data_X = dataset['X']"
   ]
  },
  {
   "cell_type": "code",
   "execution_count": 6,
   "id": "8ed82ee5",
   "metadata": {},
   "outputs": [
    {
     "name": "stdout",
     "output_type": "stream",
     "text": [
      "(3,)\n",
      "(1, 3)\n",
      "(3, 1)\n",
      "[ 1.         -1.30663171  2.47541277]\n",
      "[[ 1.         -1.30663171  2.47541277]]\n",
      "[[ 1.        ]\n",
      " [-1.30663171]\n",
      " [ 2.47541277]]\n",
      "<class 'numpy.ndarray'>\n"
     ]
    }
   ],
   "source": [
    "print(data_X[0].shape)\n",
    "print(data_X[0].reshape((1,3)).shape)\n",
    "print(data_X[0].reshape((1,3)).T.shape)\n",
    "print(data_X[0])\n",
    "print(data_X[0].reshape((1,3)))\n",
    "print(data_X[0].reshape((1,3)).T)\n",
    "print(type(data_X[0].reshape((1,3)).T))"
   ]
  },
  {
   "cell_type": "code",
   "execution_count": 7,
   "id": "8e0dfd55",
   "metadata": {},
   "outputs": [
    {
     "name": "stdout",
     "output_type": "stream",
     "text": [
      "<class 'numpy.ndarray'>\n",
      "<class 'numpy.ndarray'>\n",
      "[11.02916166]\n",
      "11.029161663493928\n",
      "100\n",
      "(100, 1)\n",
      "(100, 3)\n"
     ]
    }
   ],
   "source": [
    "print(type(target_D))\n",
    "print(type(data_X))\n",
    "print(target_D[0])\n",
    "print(target_D[0][0])\n",
    "print(len(target_D))\n",
    "print(target_D.shape)\n",
    "print(data_X.shape)"
   ]
  },
  {
   "cell_type": "code",
   "execution_count": 8,
   "id": "646a78e3",
   "metadata": {},
   "outputs": [
    {
     "name": "stdout",
     "output_type": "stream",
     "text": [
      "<class 'numpy.ndarray'>\n",
      "(3, 1)\n",
      "The weight matrix of Least Square (Wiener) Solution is (W_star)\n",
      "[[ 0.99769073]\n",
      " [-2.00001451]\n",
      " [ 2.99870453]]\n",
      "The MSE of the whole dataset given W_star is\n",
      "6.145138742034196e-05\n"
     ]
    }
   ],
   "source": [
    "# (a) Least square (Wiener) solution\n",
    "first_part = np.linalg.inv(np.dot(data_X.T, data_X))\n",
    "W_star = np.dot(np.dot(first_part, data_X.T), target_D)\n",
    "print(type(W_star))\n",
    "print(W_star.shape)\n",
    "print(\"The weight matrix of Least Square (Wiener) Solution is (W_star)\")\n",
    "print(W_star)\n",
    "mse_star = np.dot((target_D - np.dot(data_X, W_star)).T, (target_D - np.dot(data_X, W_star))) / float(2 * len(target_D))\n",
    "print(\"The MSE of the whole dataset given W_star is\")\n",
    "print(mse_star[0][0])"
   ]
  },
  {
   "cell_type": "code",
   "execution_count": 9,
   "id": "e4af34d9",
   "metadata": {},
   "outputs": [
    {
     "name": "stdout",
     "output_type": "stream",
     "text": [
      "Final weight matrix after 20 epochs is: \n",
      "[[ 0.99761689]\n",
      " [-1.99979502]\n",
      " [ 2.99898621]]\n",
      "W_star matrix is: \n",
      "[[ 0.99769073]\n",
      " [-2.00001451]\n",
      " [ 2.99870453]]\n"
     ]
    }
   ],
   "source": [
    "# (b) Run LMS for 20 epochs with learning rate r = 0.01\n",
    "W_init = W_star\n",
    "W_init[0][0] = 0\n",
    "W_init[1][0] = 0\n",
    "W_init[2][0] = 0\n",
    "# print(W_init)\n",
    "\n",
    "first_part = np.linalg.inv(np.dot(data_X.T, data_X))\n",
    "W_star = np.dot(np.dot(first_part, data_X.T), target_D)\n",
    "\n",
    "mse_losses = list()\n",
    "r = 0.01\n",
    "\n",
    "def calculate_mse (target_D, data_X, W) :\n",
    "    mse_loss = np.dot((target_D - np.dot(data_X, W)).T, (target_D - np.dot(data_X, W))) / float(2 * len(target_D))\n",
    "    return mse_loss[0][0]\n",
    "\n",
    "for i in range(0, 20) :\n",
    "    for k in range(0, len(target_D)) :\n",
    "        if i == 0 :\n",
    "            if k == 0 :\n",
    "                W_k = W_init\n",
    "            else :\n",
    "                W_k = W_k_plus_one\n",
    "        else :\n",
    "            W_k = W_k_plus_one\n",
    "        \n",
    "        d_k = target_D[k][0]\n",
    "        # print(d_k)\n",
    "        X_k = data_X[k].reshape((1,3)).T\n",
    "        # print(X_k)\n",
    "        s_k = np.dot(W_k.T, X_k)\n",
    "        # print(s_k)\n",
    "        dL_dWk = (-1) * (d_k - s_k) * X_k\n",
    "        # print(dL_dWk)\n",
    "        W_k_plus_one = W_k - r * dL_dWk\n",
    "        # print(W_k_plus_one)\n",
    "        \n",
    "    mse_losses.append(calculate_mse(target_D, data_X, W_k_plus_one))\n",
    "    # print(calculate_mse(target_D, data_X, W_k_plus_one))\n",
    "    if i == 19 :\n",
    "        W_20_Epochs = W_k_plus_one\n",
    "\n",
    "print(\"Final weight matrix after 20 epochs is: \")\n",
    "print(W_20_Epochs)\n",
    "# print(mse_losses)\n",
    "print(\"W_star matrix is: \")\n",
    "print(W_star)"
   ]
  },
  {
   "cell_type": "code",
   "execution_count": 10,
   "id": "8f6f59e1",
   "metadata": {},
   "outputs": [
    {
     "data": {
      "image/png": "[encoded data removed]",
      "text/plain": [
       "<Figure size 432x288 with 1 Axes>"
      ]
     },
     "metadata": {
      "needs_background": "light"
     },
     "output_type": "display_data"
    }
   ],
   "source": [
    "# (b) Plot MSE losses in log scale vs. Epochs\n",
    "import matplotlib.pyplot as plt\n",
    "%matplotlib inline\n",
    "\n",
    "# x_epochs = np.arange(1, 21, 1)\n",
    "# print(x_epochs)\n",
    "x_epochs = ['1', '2', '3', '4', '5', \n",
    "            '6', '7', '8', '9', '10', \n",
    "            '11', '12', '13', '14', '15', \n",
    "            '16', '17', '18', '19', '20']\n",
    "y_mse_losses = mse_losses\n",
    "\n",
    "figure, axis = plt.subplots()\n",
    "axis.plot(x_epochs, y_mse_losses, label = \"r = 0.01\")\n",
    "\n",
    "axis.set(xlabel = \"Epochs\", ylabel = \"MSE Loss in log scale\", \n",
    "         title = \"Problem (b) plot the MSE loss vs. Epochs\")\n",
    "axis.grid()\n",
    "plt.yscale(\"log\")\n",
    "plt.legend()\n",
    "plt.show()"
   ]
  },
  {
   "cell_type": "code",
   "execution_count": 11,
   "id": "32f5bc5d",
   "metadata": {},
   "outputs": [
    {
     "data": {
      "text/plain": [
       "[<mpl_toolkits.mplot3d.art3d.Line3D at 0x2d6bce00bb0>]"
      ]
     },
     "execution_count": 11,
     "metadata": {},
     "output_type": "execute_result"
    },
    {
     "data": {
      "image/png": "[encoded data removed]",
      "text/plain": [
       "<Figure size 432x288 with 1 Axes>"
      ]
     },
     "metadata": {
      "needs_background": "light"
     },
     "output_type": "display_data"
    }
   ],
   "source": [
    "# (c) Scatter plot all 100 data-target pairs in a 3D figure, and\n",
    "# plot the lines corresponding to the linear models in (a) and (b)\n",
    "# respectively in the same figure.\n",
    "from mpl_toolkits import mplot3d\n",
    "\n",
    "fig = plt.figure()\n",
    "ax = plt.axes(projection = '3d')\n",
    "\n",
    "# plot 100 data-target pairs\n",
    "zdata = target_D\n",
    "xdata = data_X[:,1]\n",
    "ydata = data_X[:,2]\n",
    "ax.scatter3D(xdata, ydata, zdata, c = zdata, cmap = \"Greens\")\n",
    "\n",
    "# plot W_star line in (a), this line has color red\n",
    "zline = np.linspace(-12, 12, 100)\n",
    "xline = W_star[1][0] * zline + W_star[0][0]\n",
    "yline = W_star[2][0] * zline\n",
    "ax.plot3D(xline, yline, zline, \"red\")\n",
    "\n",
    "# plot W_20_Epochs line in (b), this line has color white\n",
    "zline = np.linspace(-12, 12, 100)\n",
    "xline = W_20_Epochs[1][0] * zline + W_20_Epochs[0][0]\n",
    "yline = W_20_Epochs[2][0] * zline\n",
    "ax.plot3D(xline, yline, zline, \"white\")"
   ]
  },
  {
   "cell_type": "code",
   "execution_count": 12,
   "id": "fabf3af5",
   "metadata": {},
   "outputs": [],
   "source": [
    "# (c) Given the 3D plot above, linear model from (a) is very close to\n",
    "# linear model from (b), and both linear models fit the data relatively well."
   ]
  },
  {
   "cell_type": "code",
   "execution_count": 13,
   "id": "e2fb60d2",
   "metadata": {},
   "outputs": [
    {
     "data": {
      "image/png": "[encoded data removed]",
      "text/plain": [
       "<Figure size 432x288 with 1 Axes>"
      ]
     },
     "metadata": {
      "needs_background": "light"
     },
     "output_type": "display_data"
    }
   ],
   "source": [
    "# (d) Multiple learning rates (4 different learning rates)\n",
    "learning_rates = [0.005, 0.01, 0.05, 0.5]\n",
    "# print(type(learning_rates))\n",
    "mse_losses_d = list()\n",
    "\n",
    "for r in learning_rates :\n",
    "    for i in range(0, 20) :\n",
    "        for k in range(0, len(target_D)) :\n",
    "            if i == 0 :\n",
    "                if k == 0 :\n",
    "                    W_k = W_init\n",
    "                else :\n",
    "                    W_k = W_k_plus_one\n",
    "            else :\n",
    "                W_k = W_k_plus_one\n",
    "            \n",
    "            d_k = target_D[k][0]\n",
    "            X_k = data_X[k].reshape((1,3)).T\n",
    "            s_k = np.dot(W_k.T, X_k)\n",
    "            dL_dWk = (-1) * (d_k - s_k) * X_k\n",
    "            W_k_plus_one = W_k - r * dL_dWk\n",
    "        mse_losses_d.append(calculate_mse(target_D, data_X, W_k_plus_one))\n",
    "\n",
    "# print(len(mse_losses_d))\n",
    "mse_005_losses = mse_losses_d[0:20]\n",
    "mse_01_losses = mse_losses_d[20:40]\n",
    "mse_05_losses = mse_losses_d[40:60]\n",
    "mse_5_losses = mse_losses_d[60:80]\n",
    "\n",
    "x_epochs = ['1', '2', '3', '4', '5', \n",
    "            '6', '7', '8', '9', '10', \n",
    "            '11', '12', '13', '14', '15', \n",
    "            '16', '17', '18', '19', '20']\n",
    "\n",
    "figure, axis = plt.subplots()\n",
    "axis.plot(x_epochs, mse_005_losses, label = \"r = 0.005\")\n",
    "axis.plot(x_epochs, mse_01_losses, label = \"r = 0.01\")\n",
    "axis.plot(x_epochs, mse_05_losses, label = \"r = 0.05\")\n",
    "axis.plot(x_epochs, mse_5_losses, label = \"r = 0.5\")\n",
    "\n",
    "axis.set(xlabel = \"Epochs\", ylabel = \"MSE Loss in log scale\", \n",
    "         title = \"MSE loss vs. Epochs\")\n",
    "axis.grid()\n",
    "plt.yscale(\"log\")\n",
    "plt.legend()\n",
    "plt.show()"
   ]
  },
  {
   "cell_type": "code",
   "execution_count": 14,
   "id": "7a6543ed",
   "metadata": {},
   "outputs": [
    {
     "name": "stdout",
     "output_type": "stream",
     "text": [
      "MSE after Epoch 1: 3.6798545341445733e+31\n",
      "MSE after Epoch 2: 5.402768778759977e+60\n",
      "MSE after Epoch 3: 7.932354446216017e+89\n",
      "MSE after Epoch 4: 1.164629648926877e+119\n",
      "MSE after Epoch 5: 1.7099112607185237e+148\n",
      "MSE after Epoch 6: 2.5104946643133094e+177\n",
      "MSE after Epoch 7: 3.685912599287265e+206\n",
      "MSE after Epoch 8: 5.411663240200822e+235\n",
      "MSE after Epoch 9: 7.945413309855397e+264\n",
      "MSE after Epoch 10: 1.1665469535403863e+294\n",
      "MSE after Epoch 11: inf\n",
      "MSE after Epoch 12: inf\n",
      "MSE after Epoch 13: inf\n",
      "MSE after Epoch 14: inf\n",
      "MSE after Epoch 15: inf\n",
      "MSE after Epoch 16: inf\n",
      "MSE after Epoch 17: inf\n",
      "MSE after Epoch 18: inf\n",
      "MSE after Epoch 19: inf\n",
      "MSE after Epoch 20: inf\n"
     ]
    }
   ],
   "source": [
    "# (d) Further enlarge learning rate to 1\n",
    "r = 1\n",
    "mse_r1_losses = list()\n",
    "for i in range(0, 20) :\n",
    "    for k in range(0, len(target_D)) :\n",
    "        if i == 0 :\n",
    "            if k == 0 :\n",
    "                W_k = W_init\n",
    "            else :\n",
    "                W_k = W_k_plus_one\n",
    "        else :\n",
    "            W_k = W_k_plus_one\n",
    "        \n",
    "        d_k = target_D[k][0]\n",
    "        X_k = data_X[k].reshape((1,3)).T\n",
    "        s_k = np.dot(W_k.T, X_k)\n",
    "        dL_dWk = (-1) * (d_k - s_k) * X_k\n",
    "        W_k_plus_one = W_k - r * dL_dWk\n",
    "        \n",
    "    mse_r1_losses.append(calculate_mse(target_D, data_X, W_k_plus_one))\n",
    "    print(\"MSE after Epoch \" + str(i+1) + \": \" + str(mse_r1_losses[i]) )"
   ]
  },
  {
   "cell_type": "code",
   "execution_count": 15,
   "id": "946200c1",
   "metadata": {},
   "outputs": [],
   "source": [
    "# (d) Comments\n",
    "\n",
    "# Given learning rate r = 1 and its MSE losses shown above, the MSE loss gradually becomes so large\n",
    "# that finally leads to numerical difficulty, making the LMS model training fail.\n",
    "\n",
    "# Based on all 6 observations, if the learning rate is too small, it would take a very long time for model \n",
    "# training to achieve convergence (finding the optimal solution), although the model accuracy could be relatively good.\n",
    "# Although increasing the learning rate could speed up model training, if the learning rate is too large,\n",
    "# then the model training might fail (training loss becomes so large that the model fails to converge), which means\n",
    "# the model accuracy would be really bad.\n",
    "# Therefore, it is very important to maintain the trade-off between a small learning rate and \n",
    "# a large learning rate, through either empirical knowledge or many experiments."
   ]
  },
  {
   "cell_type": "code",
   "execution_count": null,
   "id": "27b48abe",
   "metadata": {},
   "outputs": [],
   "source": []
  }
 ],
 "metadata": {
  "kernelspec": {
   "display_name": "Python 3 (ipykernel)",
   "language": "python",
   "name": "python3"
  },
  "language_info": {
   "codemirror_mode": {
    "name": "ipython",
    "version": 3
   },
   "file_extension": ".py",
   "mimetype": "text/x-python",
   "name": "python",
   "nbconvert_exporter": "python",
   "pygments_lexer": "ipython3",
   "version": "3.9.7"
  }
 },
 "nbformat": 4,
 "nbformat_minor": 5
}
